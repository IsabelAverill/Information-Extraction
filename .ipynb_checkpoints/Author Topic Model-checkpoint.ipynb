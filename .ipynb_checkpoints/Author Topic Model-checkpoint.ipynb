{
 "cells": [
  {
   "cell_type": "markdown",
   "metadata": {},
   "source": [
    "## Author Topic Model\n",
    "\n",
    "The author-topic model is an extension of Latent Dirichlet Allocation (LDA), that allows us to learn topic representations of authors in a corpus. The model can be applied to any kinds of labels on documents, such as tags on posts on the web. The model can be used as a novel way of data exploration, as features in machine learning pipelines, for author (or tag) prediction, or to simply leverage your topic model with existing metadata.\n",
    "\n",
    "<img src=\"img/atm.png\"/>"
   ]
  },
  {
   "cell_type": "markdown",
   "metadata": {},
   "source": [
    "## Data\n",
    "\n",
    "The data we'll be using consists of scientific papers about machine learning, from the Neural Information Processing Systems conference (NIPS). We'll first crawl the folders and files in the dataset, and read the files into memory."
   ]
  },
  {
   "cell_type": "code",
   "execution_count": null,
   "metadata": {},
   "outputs": [],
   "source": [
    "import os, re\n",
    "from smart_open import smart_open\n",
    "\n",
    "# Folder containing all NIPS papers.\n",
    "data_dir = 'nipstxt/'  # Set this path to the data on your machine.\n",
    "\n",
    "# Folders containin individual NIPS papers.\n",
    "yrs = ['00', '01', '02', '03', '04', '05', '06', '07', '08', '09', '10', '11', '12']\n",
    "dirs = ['nips' + yr for yr in yrs]"
   ]
  },
  {
   "cell_type": "code",
   "execution_count": null,
   "metadata": {},
   "outputs": [],
   "source": [
    "# Get all document texts and their corresponding IDs.\n",
    "\n",
    "docs = []\n",
    "doc_ids = []\n",
    "for yr_dir in dirs:\n",
    "    # List of filenames\n",
    "    files = os.listdir(data_dir + yr_dir)\n",
    "    for filen in files:\n",
    "        # Get document ID\n",
    "        (idx1, idx2) = re.search('[0-9]+', filen).span()\n",
    "        doc_ids.append(yr_dir[4:] + '_' + str(int(filen[idx1:idx2])))\n",
    "        \n",
    "        # Read document text\n",
    "        with smart_open(data_dir + yr_dir + '/' + filen, 'rb', encoding='latin-1') as f:\n",
    "            txt = f.read()\n",
    "            \n",
    "        # Replace any whitespace (newline, tabs, etc.) by a single space.\n",
    "        txt = re.sub(r'\\s', ' ', txt)\n",
    "        \n",
    "        docs.append(txt)"
   ]
  },
  {
   "cell_type": "code",
   "execution_count": null,
   "metadata": {},
   "outputs": [],
   "source": [
    "doc_ids[:5]"
   ]
  },
  {
   "cell_type": "code",
   "execution_count": null,
   "metadata": {
    "scrolled": true
   },
   "outputs": [],
   "source": [
    "docs[0]"
   ]
  },
  {
   "cell_type": "markdown",
   "metadata": {},
   "source": [
    "Construct a mapping from author names to document IDs."
   ]
  },
  {
   "cell_type": "code",
   "execution_count": null,
   "metadata": {},
   "outputs": [],
   "source": [
    "filenames = [data_dir + 'idx/a' + yr + '.txt' for yr in yrs]  # Using the years defined in previous cell\n",
    "\n",
    "# Get all author names and their corresponding document IDs\n",
    "author2doc = dict()\n",
    "i = 0\n",
    "for yr in yrs:\n",
    "    # The files \"a00.txt\" and so on contain the author-document mappings\n",
    "    filename = data_dir + 'idx/a' + yr + '.txt'\n",
    "    for line in smart_open(filename, 'rb', errors='ignore', encoding='latin-1'):\n",
    "        # Each line corresponds to one author\n",
    "        contents = re.split(',', line)\n",
    "        author_name = (contents[1] + contents[0]).strip()\n",
    "        # Remove any whitespace to reduce redundant author names\n",
    "        author_name = re.sub(r'\\s', '', author_name)\n",
    "        # Get document IDs for author\n",
    "        ids = [c.strip() for c in contents[2:]]\n",
    "        if not author2doc.get(author_name):\n",
    "            # This is a new author.\n",
    "            author2doc[author_name] = []\n",
    "            i += 1\n",
    "        \n",
    "        # Add document IDs to author.\n",
    "        author2doc[author_name].extend([yr + '_' + id for id in ids])"
   ]
  },
  {
   "cell_type": "code",
   "execution_count": null,
   "metadata": {},
   "outputs": [],
   "source": [
    "author2doc"
   ]
  },
  {
   "cell_type": "markdown",
   "metadata": {},
   "source": [
    "Use an integer ID in author2doc, instead of the IDs provided in the NIPS dataset."
   ]
  },
  {
   "cell_type": "code",
   "execution_count": null,
   "metadata": {},
   "outputs": [],
   "source": [
    "# Mapping from ID of document in NIPS datast, to an integer ID.\n",
    "doc_id_dict = dict(zip(doc_ids, range(len(doc_ids))))\n",
    "# Replace NIPS IDs by integer IDs.\n",
    "for a, a_doc_ids in author2doc.items():\n",
    "    for i, doc_id in enumerate(a_doc_ids):\n",
    "        author2doc[a][i] = doc_id_dict[doc_id]"
   ]
  },
  {
   "cell_type": "code",
   "execution_count": null,
   "metadata": {},
   "outputs": [],
   "source": [
    "author2doc"
   ]
  },
  {
   "cell_type": "markdown",
   "metadata": {},
   "source": [
    "## Preprocess\n",
    "\n",
    "Now we will preprocess this dataset using same process and functions we used earlier for the Fake news dataset. "
   ]
  },
  {
   "cell_type": "code",
   "execution_count": 18,
   "metadata": {},
   "outputs": [
    {
     "name": "stdout",
     "output_type": "stream",
     "text": [
      "[nltk_data] Downloading package wordnet to /Users/parul/nltk_data...\n",
      "[nltk_data]   Package wordnet is already up-to-date!\n"
     ]
    }
   ],
   "source": [
    "import re\n",
    "from gensim.parsing.preprocessing import remove_stopwords, strip_punctuation\n",
    "\n",
    "import nltk\n",
    "nltk.download('wordnet') # download wordnet to be used in lemmatization\n",
    "from nltk.stem import WordNetLemmatizer\n",
    "\n",
    "def preprocess(texts):\n",
    "    # tokenization\n",
    "    texts = [re.findall(r'\\w+', line.lower()) for line in texts]\n",
    "    # remove stopwords\n",
    "    texts = [remove_stopwords(' '.join(line)).split() for line in texts]\n",
    "    # remove punctuation\n",
    "    texts = [strip_punctuation(' '.join(line)).split() for line in texts]\n",
    "    # remove words that are only 1-2 character\n",
    "    texts = [[token for token in line if len(token) > 2] for line in texts]\n",
    "    # remove numbers\n",
    "    texts = [[token for token in line if not token.isnumeric()] for line in texts]\n",
    "    # lemmatization \n",
    "    lemmatizer = WordNetLemmatizer()\n",
    "    texts = [[word for word in lemmatizer.lemmatize(' '.join(line), pos='v').split()] for line in texts]\n",
    "    \n",
    "    return texts"
   ]
  },
  {
   "cell_type": "code",
   "execution_count": 19,
   "metadata": {},
   "outputs": [],
   "source": [
    "processed_docs = preprocess(docs)"
   ]
  },
  {
   "cell_type": "code",
   "execution_count": 20,
   "metadata": {},
   "outputs": [],
   "source": [
    "from gensim.models.phrases import Phrases, Phraser\n",
    "\n",
    "# training for bigram collocation detection\n",
    "phrases = Phrases(processed_docs, min_count=1, threshold=0.8, scoring='npmi')"
   ]
  },
  {
   "cell_type": "code",
   "execution_count": 21,
   "metadata": {},
   "outputs": [],
   "source": [
    "bigram = Phraser(phrases)"
   ]
  },
  {
   "cell_type": "code",
   "execution_count": 22,
   "metadata": {},
   "outputs": [],
   "source": [
    "# merging detected collocations with data\n",
    "processed_docs = list(bigram[processed_docs])"
   ]
  },
  {
   "cell_type": "code",
   "execution_count": 24,
   "metadata": {},
   "outputs": [],
   "source": [
    "from gensim.corpora import Dictionary\n",
    "\n",
    "dictionary = Dictionary(processed_docs)\n",
    "\n",
    "# Remove rare and common tokens.\n",
    "# Filter out words that occur too frequently or too rarely.\n",
    "max_freq = 0.5\n",
    "min_wordcount = 20\n",
    "dictionary.filter_extremes(no_below=min_wordcount, no_above=max_freq)\n",
    "\n",
    "_ = dictionary[0]"
   ]
  },
  {
   "cell_type": "code",
   "execution_count": 25,
   "metadata": {},
   "outputs": [],
   "source": [
    "# Vectorize data\n",
    "# Bag-of-words representation of the documents.\n",
    "corpus = [dictionary.doc2bow(doc) for doc in processed_docs]"
   ]
  },
  {
   "cell_type": "code",
   "execution_count": 26,
   "metadata": {},
   "outputs": [
    {
     "name": "stdout",
     "output_type": "stream",
     "text": [
      "Number of authors: 2479\n",
      "Number of unique tokens: 6357\n",
      "Number of documents: 1740\n"
     ]
    }
   ],
   "source": [
    "print('Number of authors: %d' % len(author2doc))\n",
    "print('Number of unique tokens: %d' % len(dictionary))\n",
    "print('Number of documents: %d' % len(corpus))"
   ]
  },
  {
   "cell_type": "markdown",
   "metadata": {},
   "source": [
    "# Training\n",
    "\n",
    "The interface to the author-topic model is very similar to that of LDA. In addition to a corpus, dictionary (id2word) and number of topics (num_topics), the author-topic model requires either an author to document ID mapping (author2doc), or the reverse (doc2author)."
   ]
  },
  {
   "cell_type": "code",
   "execution_count": 27,
   "metadata": {},
   "outputs": [],
   "source": [
    "from gensim.models import AuthorTopicModel\n",
    "\n",
    "model = AuthorTopicModel(corpus=corpus, num_topics=10, id2word=dictionary.id2token, \\\n",
    "                author2doc=author2doc, chunksize=2000, passes=100, gamma_threshold=1e-10, \\\n",
    "                eval_every=0, iterations=1, random_state=2)"
   ]
  },
  {
   "cell_type": "code",
   "execution_count": 28,
   "metadata": {},
   "outputs": [],
   "source": [
    "# Save model\n",
    "model.save('models/atmodel')"
   ]
  },
  {
   "cell_type": "code",
   "execution_count": 29,
   "metadata": {},
   "outputs": [],
   "source": [
    "# Load model\n",
    "model = AuthorTopicModel.load('models/atmodel')"
   ]
  },
  {
   "cell_type": "markdown",
   "metadata": {},
   "source": [
    "## Exploring author-topic representation\n",
    "\n",
    "Now that we have trained a model, we can start exploring the authors and the topics.\n",
    "\n",
    "First, let's simply print the top 10 relevant words in the topics."
   ]
  },
  {
   "cell_type": "code",
   "execution_count": 30,
   "metadata": {},
   "outputs": [
    {
     "data": {
      "text/plain": [
       "[('noise', 0.007148242388583639),\n",
       " ('density', 0.006989836410080504),\n",
       " ('weight', 0.006775707499261723),\n",
       " ('regression', 0.006356847443801718),\n",
       " ('matrix', 0.006267901742473971),\n",
       " ('estimation', 0.00625318201447436),\n",
       " ('estimate', 0.006230226607797577),\n",
       " ('gaussian', 0.006022509980821509),\n",
       " ('parameter', 0.005613187571721336),\n",
       " ('prediction', 0.005579763985637562)]"
      ]
     },
     "execution_count": 30,
     "metadata": {},
     "output_type": "execute_result"
    }
   ],
   "source": [
    "topic_no = 0\n",
    "model.show_topic(topic_no)"
   ]
  },
  {
   "cell_type": "markdown",
   "metadata": {},
   "source": [
    "Below, we give each topic a label based on what each topic seems to be about intuitively."
   ]
  },
  {
   "cell_type": "code",
   "execution_count": 55,
   "metadata": {},
   "outputs": [],
   "source": [
    "topic_labels = ['Bayesian modelling', 'Neuroscience', 'Reinforcement learning',  \\\n",
    "                'Face Recognition', 'Math/general', 'Neurotech', 'Neural Networks', \\\n",
    "                'Object recognition', 'Numerical optimization', 'Speech recognition']"
   ]
  },
  {
   "cell_type": "markdown",
   "metadata": {},
   "source": [
    "Rather than just calling `model.show_topics(num_topics=10)`, we format the output a bit so it is easier to get an overview."
   ]
  },
  {
   "cell_type": "code",
   "execution_count": 56,
   "metadata": {},
   "outputs": [
    {
     "name": "stdout",
     "output_type": "stream",
     "text": [
      "Label: Bayesian modelling\n",
      "Words: noise density weight regression matrix estimation estimate gaussian parameter prediction \n",
      "\n",
      "Label: Neuroscience\n",
      "Words: neurons neuron synaptic cell memory activity patterns cells dynamics connections \n",
      "\n",
      "Label: Reinforcement learning\n",
      "Words: control reinforcement action optimal policy algorithms states actions decision dynamic \n",
      "\n",
      "Label: Face Recognition\n",
      "Words: field image control face map distance fig images architecture phase \n",
      "\n",
      "Label: Math/general\n",
      "Words: gaussian variables hidden field energy examples generalization matrix noise image \n",
      "\n",
      "Label: Neurotech\n",
      "Words: analog circuit spike chip neuron signal voltage frequency neurons noise \n",
      "\n",
      "Label: Neural Networks\n",
      "Words: units unit hidden net task recurrent trained architecture representation layer \n",
      "\n",
      "Label: Object recognition\n",
      "Words: visual image motion object cells direction orientation images spatial eye \n",
      "\n",
      "Label: Numerical optimization\n",
      "Words: let class theorem examples threshold bound points vectors dimension distance \n",
      "\n",
      "Label: Speech recognition\n",
      "Words: recognition speech classification layer classifier word hidden features trained class \n",
      "\n"
     ]
    }
   ],
   "source": [
    "for topic in model.show_topics(num_topics=10):\n",
    "    print('Label: ' + topic_labels[topic[0]])\n",
    "    words = ''\n",
    "    for word, prob in model.show_topic(topic[0]):\n",
    "        words += word + ' '\n",
    "    print('Words: ' + words)\n",
    "    print()"
   ]
  },
  {
   "cell_type": "markdown",
   "metadata": {},
   "source": [
    "These topics are by no means perfect. They have problems such as chained topics, intruded words, random topics, and unbalanced topics ([see Mimno and co-authors 2011](https://people.cs.umass.edu/~wallach/publications/mimno11optimizing.pdf). They will do for the purpose of this tutorial, however.\n",
    "\n",
    "Now let's retrieve the topic distribution for an author. Each topic has a probability of being expressed given the particular author."
   ]
  },
  {
   "cell_type": "code",
   "execution_count": 58,
   "metadata": {},
   "outputs": [
    {
     "data": {
      "text/plain": [
       "[(6, 0.22610997369321953), (8, 0.24210404543871827), (9, 0.5315931549129316)]"
      ]
     },
     "execution_count": 58,
     "metadata": {},
     "output_type": "execute_result"
    }
   ],
   "source": [
    "model['YannLeCun']"
   ]
  },
  {
   "cell_type": "markdown",
   "metadata": {},
   "source": [
    "Let's print the top topics of some authors. First, we make a function to view it more easily and replacing the topic no. by the labels we gave for each topic above."
   ]
  },
  {
   "cell_type": "code",
   "execution_count": 57,
   "metadata": {},
   "outputs": [],
   "source": [
    "from pprint import pprint\n",
    "\n",
    "def show_author(name):\n",
    "    print('\\n%s' % name)\n",
    "    print('Docs:', model.author2doc[name])\n",
    "    print('Topics:')\n",
    "    pprint([(topic_labels[topic[0]], topic[1]) for topic in model[name]])"
   ]
  },
  {
   "cell_type": "markdown",
   "metadata": {},
   "source": [
    "Below, we print some high profile researchers and inspect them. Three of these, Yann LeCun, Geoffrey E. Hinton and Christof Koch, are spot on."
   ]
  },
  {
   "cell_type": "code",
   "execution_count": 59,
   "metadata": {},
   "outputs": [
    {
     "name": "stdout",
     "output_type": "stream",
     "text": [
      "\n",
      "YannLeCun\n",
      "Docs: [177, 337, 325, 473, 560, 482, 642, 699, 775, 757, 1458]\n",
      "Topics:\n",
      "[('Neural Networks', 0.22610997369321953),\n",
      " ('Numerical optimization', 0.24210404543871827),\n",
      " ('Speech recognition', 0.5315931549129316)]\n"
     ]
    }
   ],
   "source": [
    "show_author('YannLeCun')"
   ]
  },
  {
   "cell_type": "code",
   "execution_count": 60,
   "metadata": {},
   "outputs": [
    {
     "name": "stdout",
     "output_type": "stream",
     "text": [
      "\n",
      "GeoffreyE.Hinton\n",
      "Docs: [4, 177, 268, 212, 232, 438, 479, 446, 615, 734, 715, 968, 957, 1394, 1688, 1634]\n",
      "Topics:\n",
      "[('Math/general', 0.3797800173095033),\n",
      " ('Neural Networks', 0.44177799436544585),\n",
      " ('Object recognition', 0.11305616077790281),\n",
      " ('Speech recognition', 0.061465318598817854)]\n"
     ]
    }
   ],
   "source": [
    "show_author('GeoffreyE.Hinton')"
   ]
  },
  {
   "cell_type": "code",
   "execution_count": 61,
   "metadata": {},
   "outputs": [
    {
     "name": "stdout",
     "output_type": "stream",
     "text": [
      "\n",
      "TerrenceJ.Sejnowski\n",
      "Docs: [459, 563, 519, 516, 693, 620, 686, 592, 733, 842, 900, 910, 975, 860, 896, 881, 972, 1180, 1179, 1278, 1284, 1144, 1220, 1274, 1404, 1344, 1515, 1514, 1534, 1600, 1625]\n",
      "Topics:\n",
      "[('Object recognition', 0.9999193015626199)]\n"
     ]
    }
   ],
   "source": [
    "show_author('TerrenceJ.Sejnowski')"
   ]
  },
  {
   "cell_type": "code",
   "execution_count": 62,
   "metadata": {},
   "outputs": [
    {
     "name": "stdout",
     "output_type": "stream",
     "text": [
      "\n",
      "ChristofKoch\n",
      "Docs: [64, 218, 209, 282, 373, 317, 294, 310, 520, 484, 681, 689, 803, 820, 701, 874, 1192, 1201, 1216, 1519, 1463, 1500, 1452, 1733]\n",
      "Topics:\n",
      "[('Neurotech', 0.9998903726144014)]\n"
     ]
    }
   ],
   "source": [
    "show_author('ChristofKoch')"
   ]
  },
  {
   "cell_type": "markdown",
   "metadata": {},
   "source": [
    "Terrence J. Sejnowski's results are surprising, however. He is a neuroscientist, so we would expect him to get the \"neuroscience\" label. This may indicate that Sejnowski works with the neuroscience aspects of visual perception, or perhaps that we have labeled the topic incorrectly, or perhaps that this topic simply is not very informative."
   ]
  },
  {
   "cell_type": "markdown",
   "metadata": {},
   "source": [
    "## Visualization\n",
    "\n",
    "Now let's explore our author-topic model using interactive visualizations.\n",
    "\n",
    "We take all the author-topic distributions and embed them in a 2D space. To do this, we reduce the dimensionality of this data using t-SNE.\n",
    "\n",
    "t-SNE is a method that attempts to reduce the dimensionality of a dataset, while maintaining the distances between the points. That means that if two authors are close together in the plot below, then their topic distributions are similar.\n",
    "\n",
    "In the cell below, we transform the author-topic representation into the t-SNE space. You can increase the `smallest_author` value if you do not want to view the authors with few documents only."
   ]
  },
  {
   "cell_type": "code",
   "execution_count": 39,
   "metadata": {},
   "outputs": [],
   "source": [
    "from sklearn.manifold import TSNE\n",
    "\n",
    "tsne = TSNE(n_components=2, random_state=0)\n",
    "smallest_author = 0  # Ignore authors with documents less than this.\n",
    "authors = [model.author2id[a] for a in model.author2id.keys() if len(model.author2doc[a]) >= smallest_author]\n",
    "_ = tsne.fit_transform(model.state.gamma[authors, :])  # Result stored in tsne.embedding_"
   ]
  },
  {
   "cell_type": "code",
   "execution_count": 40,
   "metadata": {},
   "outputs": [
    {
     "data": {
      "text/plain": [
       "array([[-26.205421 ,  17.782434 ],\n",
       "       [ -1.6217549,  -8.415733 ],\n",
       "       [-60.33683  ,   3.6874433],\n",
       "       ...,\n",
       "       [-26.616974 , -31.621323 ],\n",
       "       [ 49.503586 ,   2.1977787],\n",
       "       [ 26.626907 ,  52.842297 ]], dtype=float32)"
      ]
     },
     "execution_count": 40,
     "metadata": {},
     "output_type": "execute_result"
    }
   ],
   "source": [
    "tsne.embedding_"
   ]
  },
  {
   "cell_type": "markdown",
   "metadata": {},
   "source": [
    "We are now ready to make the plot.\n",
    "\n",
    "Note that if you run this notebook yourself, you will see a different graph. The random initialization of the model will be different, and the result will thus be different to some degree. You may find an entirely different representation of the data, or it may show the same interpretation slightly differently.\n",
    "\n",
    "If you can't see the plot, you are probably viewing this tutorial in a Jupyter Notebook. View it in an nbviewer instead at http://nbviewer.jupyter.org/github/rare-technologies/gensim/blob/develop/docs/notebooks/atmodel_tutorial.ipynb."
   ]
  },
  {
   "cell_type": "code",
   "execution_count": 41,
   "metadata": {},
   "outputs": [
    {
     "data": {
      "text/html": [
       "\n",
       "    <div class=\"bk-root\">\n",
       "        <a href=\"https://bokeh.pydata.org\" target=\"_blank\" class=\"bk-logo bk-logo-small bk-logo-notebook\"></a>\n",
       "        <span id=\"7c1fddbe-d961-476e-8f5b-e829949c05e4\">Loading BokehJS ...</span>\n",
       "    </div>"
      ]
     },
     "metadata": {},
     "output_type": "display_data"
    },
    {
     "data": {
      "application/javascript": [
       "\n",
       "(function(root) {\n",
       "  function now() {\n",
       "    return new Date();\n",
       "  }\n",
       "\n",
       "  var force = true;\n",
       "\n",
       "  if (typeof (root._bokeh_onload_callbacks) === \"undefined\" || force === true) {\n",
       "    root._bokeh_onload_callbacks = [];\n",
       "    root._bokeh_is_loading = undefined;\n",
       "  }\n",
       "\n",
       "  var JS_MIME_TYPE = 'application/javascript';\n",
       "  var HTML_MIME_TYPE = 'text/html';\n",
       "  var EXEC_MIME_TYPE = 'application/vnd.bokehjs_exec.v0+json';\n",
       "  var CLASS_NAME = 'output_bokeh rendered_html';\n",
       "\n",
       "  /**\n",
       "   * Render data to the DOM node\n",
       "   */\n",
       "  function render(props, node) {\n",
       "    var script = document.createElement(\"script\");\n",
       "    node.appendChild(script);\n",
       "  }\n",
       "\n",
       "  /**\n",
       "   * Handle when an output is cleared or removed\n",
       "   */\n",
       "  function handleClearOutput(event, handle) {\n",
       "    var cell = handle.cell;\n",
       "\n",
       "    var id = cell.output_area._bokeh_element_id;\n",
       "    var server_id = cell.output_area._bokeh_server_id;\n",
       "    // Clean up Bokeh references\n",
       "    if (id !== undefined) {\n",
       "      Bokeh.index[id].model.document.clear();\n",
       "      delete Bokeh.index[id];\n",
       "    }\n",
       "\n",
       "    if (server_id !== undefined) {\n",
       "      // Clean up Bokeh references\n",
       "      var cmd = \"from bokeh.io.state import curstate; print(curstate().uuid_to_server['\" + server_id + \"'].get_sessions()[0].document.roots[0]._id)\";\n",
       "      cell.notebook.kernel.execute(cmd, {\n",
       "        iopub: {\n",
       "          output: function(msg) {\n",
       "            var element_id = msg.content.text.trim();\n",
       "            Bokeh.index[element_id].model.document.clear();\n",
       "            delete Bokeh.index[element_id];\n",
       "          }\n",
       "        }\n",
       "      });\n",
       "      // Destroy server and session\n",
       "      var cmd = \"import bokeh.io.notebook as ion; ion.destroy_server('\" + server_id + \"')\";\n",
       "      cell.notebook.kernel.execute(cmd);\n",
       "    }\n",
       "  }\n",
       "\n",
       "  /**\n",
       "   * Handle when a new output is added\n",
       "   */\n",
       "  function handleAddOutput(event, handle) {\n",
       "    var output_area = handle.output_area;\n",
       "    var output = handle.output;\n",
       "\n",
       "    // limit handleAddOutput to display_data with EXEC_MIME_TYPE content only\n",
       "    if ((output.output_type != \"display_data\") || (!output.data.hasOwnProperty(EXEC_MIME_TYPE))) {\n",
       "      return\n",
       "    }\n",
       "\n",
       "    var toinsert = output_area.element.find(\".\" + CLASS_NAME.split(' ')[0]);\n",
       "\n",
       "    if (output.metadata[EXEC_MIME_TYPE][\"id\"] !== undefined) {\n",
       "      toinsert[toinsert.length - 1].firstChild.textContent = output.data[JS_MIME_TYPE];\n",
       "      // store reference to embed id on output_area\n",
       "      output_area._bokeh_element_id = output.metadata[EXEC_MIME_TYPE][\"id\"];\n",
       "    }\n",
       "    if (output.metadata[EXEC_MIME_TYPE][\"server_id\"] !== undefined) {\n",
       "      var bk_div = document.createElement(\"div\");\n",
       "      bk_div.innerHTML = output.data[HTML_MIME_TYPE];\n",
       "      var script_attrs = bk_div.children[0].attributes;\n",
       "      for (var i = 0; i < script_attrs.length; i++) {\n",
       "        toinsert[toinsert.length - 1].firstChild.setAttribute(script_attrs[i].name, script_attrs[i].value);\n",
       "      }\n",
       "      // store reference to server id on output_area\n",
       "      output_area._bokeh_server_id = output.metadata[EXEC_MIME_TYPE][\"server_id\"];\n",
       "    }\n",
       "  }\n",
       "\n",
       "  function register_renderer(events, OutputArea) {\n",
       "\n",
       "    function append_mime(data, metadata, element) {\n",
       "      // create a DOM node to render to\n",
       "      var toinsert = this.create_output_subarea(\n",
       "        metadata,\n",
       "        CLASS_NAME,\n",
       "        EXEC_MIME_TYPE\n",
       "      );\n",
       "      this.keyboard_manager.register_events(toinsert);\n",
       "      // Render to node\n",
       "      var props = {data: data, metadata: metadata[EXEC_MIME_TYPE]};\n",
       "      render(props, toinsert[toinsert.length - 1]);\n",
       "      element.append(toinsert);\n",
       "      return toinsert\n",
       "    }\n",
       "\n",
       "    /* Handle when an output is cleared or removed */\n",
       "    events.on('clear_output.CodeCell', handleClearOutput);\n",
       "    events.on('delete.Cell', handleClearOutput);\n",
       "\n",
       "    /* Handle when a new output is added */\n",
       "    events.on('output_added.OutputArea', handleAddOutput);\n",
       "\n",
       "    /**\n",
       "     * Register the mime type and append_mime function with output_area\n",
       "     */\n",
       "    OutputArea.prototype.register_mime_type(EXEC_MIME_TYPE, append_mime, {\n",
       "      /* Is output safe? */\n",
       "      safe: true,\n",
       "      /* Index of renderer in `output_area.display_order` */\n",
       "      index: 0\n",
       "    });\n",
       "  }\n",
       "\n",
       "  // register the mime type if in Jupyter Notebook environment and previously unregistered\n",
       "  if (root.Jupyter !== undefined) {\n",
       "    var events = require('base/js/events');\n",
       "    var OutputArea = require('notebook/js/outputarea').OutputArea;\n",
       "\n",
       "    if (OutputArea.prototype.mime_types().indexOf(EXEC_MIME_TYPE) == -1) {\n",
       "      register_renderer(events, OutputArea);\n",
       "    }\n",
       "  }\n",
       "\n",
       "  \n",
       "  if (typeof (root._bokeh_timeout) === \"undefined\" || force === true) {\n",
       "    root._bokeh_timeout = Date.now() + 5000;\n",
       "    root._bokeh_failed_load = false;\n",
       "  }\n",
       "\n",
       "  var NB_LOAD_WARNING = {'data': {'text/html':\n",
       "     \"<div style='background-color: #fdd'>\\n\"+\n",
       "     \"<p>\\n\"+\n",
       "     \"BokehJS does not appear to have successfully loaded. If loading BokehJS from CDN, this \\n\"+\n",
       "     \"may be due to a slow or bad network connection. Possible fixes:\\n\"+\n",
       "     \"</p>\\n\"+\n",
       "     \"<ul>\\n\"+\n",
       "     \"<li>re-rerun `output_notebook()` to attempt to load from CDN again, or</li>\\n\"+\n",
       "     \"<li>use INLINE resources instead, as so:</li>\\n\"+\n",
       "     \"</ul>\\n\"+\n",
       "     \"<code>\\n\"+\n",
       "     \"from bokeh.resources import INLINE\\n\"+\n",
       "     \"output_notebook(resources=INLINE)\\n\"+\n",
       "     \"</code>\\n\"+\n",
       "     \"</div>\"}};\n",
       "\n",
       "  function display_loaded() {\n",
       "    var el = document.getElementById(\"7c1fddbe-d961-476e-8f5b-e829949c05e4\");\n",
       "    if (el != null) {\n",
       "      el.textContent = \"BokehJS is loading...\";\n",
       "    }\n",
       "    if (root.Bokeh !== undefined) {\n",
       "      if (el != null) {\n",
       "        el.textContent = \"BokehJS \" + root.Bokeh.version + \" successfully loaded.\";\n",
       "      }\n",
       "    } else if (Date.now() < root._bokeh_timeout) {\n",
       "      setTimeout(display_loaded, 100)\n",
       "    }\n",
       "  }\n",
       "\n",
       "\n",
       "  function run_callbacks() {\n",
       "    try {\n",
       "      root._bokeh_onload_callbacks.forEach(function(callback) { callback() });\n",
       "    }\n",
       "    finally {\n",
       "      delete root._bokeh_onload_callbacks\n",
       "    }\n",
       "    console.info(\"Bokeh: all callbacks have finished\");\n",
       "  }\n",
       "\n",
       "  function load_libs(js_urls, callback) {\n",
       "    root._bokeh_onload_callbacks.push(callback);\n",
       "    if (root._bokeh_is_loading > 0) {\n",
       "      console.log(\"Bokeh: BokehJS is being loaded, scheduling callback at\", now());\n",
       "      return null;\n",
       "    }\n",
       "    if (js_urls == null || js_urls.length === 0) {\n",
       "      run_callbacks();\n",
       "      return null;\n",
       "    }\n",
       "    console.log(\"Bokeh: BokehJS not loaded, scheduling load and callback at\", now());\n",
       "    root._bokeh_is_loading = js_urls.length;\n",
       "    for (var i = 0; i < js_urls.length; i++) {\n",
       "      var url = js_urls[i];\n",
       "      var s = document.createElement('script');\n",
       "      s.src = url;\n",
       "      s.async = false;\n",
       "      s.onreadystatechange = s.onload = function() {\n",
       "        root._bokeh_is_loading--;\n",
       "        if (root._bokeh_is_loading === 0) {\n",
       "          console.log(\"Bokeh: all BokehJS libraries loaded\");\n",
       "          run_callbacks()\n",
       "        }\n",
       "      };\n",
       "      s.onerror = function() {\n",
       "        console.warn(\"failed to load library \" + url);\n",
       "      };\n",
       "      console.log(\"Bokeh: injecting script tag for BokehJS library: \", url);\n",
       "      document.getElementsByTagName(\"head\")[0].appendChild(s);\n",
       "    }\n",
       "  };var element = document.getElementById(\"7c1fddbe-d961-476e-8f5b-e829949c05e4\");\n",
       "  if (element == null) {\n",
       "    console.log(\"Bokeh: ERROR: autoload.js configured with elementid '7c1fddbe-d961-476e-8f5b-e829949c05e4' but no matching script tag was found. \")\n",
       "    return false;\n",
       "  }\n",
       "\n",
       "  var js_urls = [\"https://cdn.pydata.org/bokeh/release/bokeh-0.12.16.min.js\", \"https://cdn.pydata.org/bokeh/release/bokeh-widgets-0.12.16.min.js\", \"https://cdn.pydata.org/bokeh/release/bokeh-tables-0.12.16.min.js\", \"https://cdn.pydata.org/bokeh/release/bokeh-gl-0.12.16.min.js\"];\n",
       "\n",
       "  var inline_js = [\n",
       "    function(Bokeh) {\n",
       "      Bokeh.set_log_level(\"info\");\n",
       "    },\n",
       "    \n",
       "    function(Bokeh) {\n",
       "      \n",
       "    },\n",
       "    function(Bokeh) {\n",
       "      console.log(\"Bokeh: injecting CSS: https://cdn.pydata.org/bokeh/release/bokeh-0.12.16.min.css\");\n",
       "      Bokeh.embed.inject_css(\"https://cdn.pydata.org/bokeh/release/bokeh-0.12.16.min.css\");\n",
       "      console.log(\"Bokeh: injecting CSS: https://cdn.pydata.org/bokeh/release/bokeh-widgets-0.12.16.min.css\");\n",
       "      Bokeh.embed.inject_css(\"https://cdn.pydata.org/bokeh/release/bokeh-widgets-0.12.16.min.css\");\n",
       "      console.log(\"Bokeh: injecting CSS: https://cdn.pydata.org/bokeh/release/bokeh-tables-0.12.16.min.css\");\n",
       "      Bokeh.embed.inject_css(\"https://cdn.pydata.org/bokeh/release/bokeh-tables-0.12.16.min.css\");\n",
       "    }\n",
       "  ];\n",
       "\n",
       "  function run_inline_js() {\n",
       "    \n",
       "    if ((root.Bokeh !== undefined) || (force === true)) {\n",
       "      for (var i = 0; i < inline_js.length; i++) {\n",
       "        inline_js[i].call(root, root.Bokeh);\n",
       "      }if (force === true) {\n",
       "        display_loaded();\n",
       "      }} else if (Date.now() < root._bokeh_timeout) {\n",
       "      setTimeout(run_inline_js, 100);\n",
       "    } else if (!root._bokeh_failed_load) {\n",
       "      console.log(\"Bokeh: BokehJS failed to load within specified timeout.\");\n",
       "      root._bokeh_failed_load = true;\n",
       "    } else if (force !== true) {\n",
       "      var cell = $(document.getElementById(\"7c1fddbe-d961-476e-8f5b-e829949c05e4\")).parents('.cell').data().cell;\n",
       "      cell.output_area.append_execute_result(NB_LOAD_WARNING)\n",
       "    }\n",
       "\n",
       "  }\n",
       "\n",
       "  if (root._bokeh_is_loading === 0) {\n",
       "    console.log(\"Bokeh: BokehJS loaded, going straight to plotting\");\n",
       "    run_inline_js();\n",
       "  } else {\n",
       "    load_libs(js_urls, function() {\n",
       "      console.log(\"Bokeh: BokehJS plotting callback run at\", now());\n",
       "      run_inline_js();\n",
       "    });\n",
       "  }\n",
       "}(window));"
      ],
      "application/vnd.bokehjs_load.v0+json": "\n(function(root) {\n  function now() {\n    return new Date();\n  }\n\n  var force = true;\n\n  if (typeof (root._bokeh_onload_callbacks) === \"undefined\" || force === true) {\n    root._bokeh_onload_callbacks = [];\n    root._bokeh_is_loading = undefined;\n  }\n\n  \n\n  \n  if (typeof (root._bokeh_timeout) === \"undefined\" || force === true) {\n    root._bokeh_timeout = Date.now() + 5000;\n    root._bokeh_failed_load = false;\n  }\n\n  var NB_LOAD_WARNING = {'data': {'text/html':\n     \"<div style='background-color: #fdd'>\\n\"+\n     \"<p>\\n\"+\n     \"BokehJS does not appear to have successfully loaded. If loading BokehJS from CDN, this \\n\"+\n     \"may be due to a slow or bad network connection. Possible fixes:\\n\"+\n     \"</p>\\n\"+\n     \"<ul>\\n\"+\n     \"<li>re-rerun `output_notebook()` to attempt to load from CDN again, or</li>\\n\"+\n     \"<li>use INLINE resources instead, as so:</li>\\n\"+\n     \"</ul>\\n\"+\n     \"<code>\\n\"+\n     \"from bokeh.resources import INLINE\\n\"+\n     \"output_notebook(resources=INLINE)\\n\"+\n     \"</code>\\n\"+\n     \"</div>\"}};\n\n  function display_loaded() {\n    var el = document.getElementById(\"7c1fddbe-d961-476e-8f5b-e829949c05e4\");\n    if (el != null) {\n      el.textContent = \"BokehJS is loading...\";\n    }\n    if (root.Bokeh !== undefined) {\n      if (el != null) {\n        el.textContent = \"BokehJS \" + root.Bokeh.version + \" successfully loaded.\";\n      }\n    } else if (Date.now() < root._bokeh_timeout) {\n      setTimeout(display_loaded, 100)\n    }\n  }\n\n\n  function run_callbacks() {\n    try {\n      root._bokeh_onload_callbacks.forEach(function(callback) { callback() });\n    }\n    finally {\n      delete root._bokeh_onload_callbacks\n    }\n    console.info(\"Bokeh: all callbacks have finished\");\n  }\n\n  function load_libs(js_urls, callback) {\n    root._bokeh_onload_callbacks.push(callback);\n    if (root._bokeh_is_loading > 0) {\n      console.log(\"Bokeh: BokehJS is being loaded, scheduling callback at\", now());\n      return null;\n    }\n    if (js_urls == null || js_urls.length === 0) {\n      run_callbacks();\n      return null;\n    }\n    console.log(\"Bokeh: BokehJS not loaded, scheduling load and callback at\", now());\n    root._bokeh_is_loading = js_urls.length;\n    for (var i = 0; i < js_urls.length; i++) {\n      var url = js_urls[i];\n      var s = document.createElement('script');\n      s.src = url;\n      s.async = false;\n      s.onreadystatechange = s.onload = function() {\n        root._bokeh_is_loading--;\n        if (root._bokeh_is_loading === 0) {\n          console.log(\"Bokeh: all BokehJS libraries loaded\");\n          run_callbacks()\n        }\n      };\n      s.onerror = function() {\n        console.warn(\"failed to load library \" + url);\n      };\n      console.log(\"Bokeh: injecting script tag for BokehJS library: \", url);\n      document.getElementsByTagName(\"head\")[0].appendChild(s);\n    }\n  };var element = document.getElementById(\"7c1fddbe-d961-476e-8f5b-e829949c05e4\");\n  if (element == null) {\n    console.log(\"Bokeh: ERROR: autoload.js configured with elementid '7c1fddbe-d961-476e-8f5b-e829949c05e4' but no matching script tag was found. \")\n    return false;\n  }\n\n  var js_urls = [\"https://cdn.pydata.org/bokeh/release/bokeh-0.12.16.min.js\", \"https://cdn.pydata.org/bokeh/release/bokeh-widgets-0.12.16.min.js\", \"https://cdn.pydata.org/bokeh/release/bokeh-tables-0.12.16.min.js\", \"https://cdn.pydata.org/bokeh/release/bokeh-gl-0.12.16.min.js\"];\n\n  var inline_js = [\n    function(Bokeh) {\n      Bokeh.set_log_level(\"info\");\n    },\n    \n    function(Bokeh) {\n      \n    },\n    function(Bokeh) {\n      console.log(\"Bokeh: injecting CSS: https://cdn.pydata.org/bokeh/release/bokeh-0.12.16.min.css\");\n      Bokeh.embed.inject_css(\"https://cdn.pydata.org/bokeh/release/bokeh-0.12.16.min.css\");\n      console.log(\"Bokeh: injecting CSS: https://cdn.pydata.org/bokeh/release/bokeh-widgets-0.12.16.min.css\");\n      Bokeh.embed.inject_css(\"https://cdn.pydata.org/bokeh/release/bokeh-widgets-0.12.16.min.css\");\n      console.log(\"Bokeh: injecting CSS: https://cdn.pydata.org/bokeh/release/bokeh-tables-0.12.16.min.css\");\n      Bokeh.embed.inject_css(\"https://cdn.pydata.org/bokeh/release/bokeh-tables-0.12.16.min.css\");\n    }\n  ];\n\n  function run_inline_js() {\n    \n    if ((root.Bokeh !== undefined) || (force === true)) {\n      for (var i = 0; i < inline_js.length; i++) {\n        inline_js[i].call(root, root.Bokeh);\n      }if (force === true) {\n        display_loaded();\n      }} else if (Date.now() < root._bokeh_timeout) {\n      setTimeout(run_inline_js, 100);\n    } else if (!root._bokeh_failed_load) {\n      console.log(\"Bokeh: BokehJS failed to load within specified timeout.\");\n      root._bokeh_failed_load = true;\n    } else if (force !== true) {\n      var cell = $(document.getElementById(\"7c1fddbe-d961-476e-8f5b-e829949c05e4\")).parents('.cell').data().cell;\n      cell.output_area.append_execute_result(NB_LOAD_WARNING)\n    }\n\n  }\n\n  if (root._bokeh_is_loading === 0) {\n    console.log(\"Bokeh: BokehJS loaded, going straight to plotting\");\n    run_inline_js();\n  } else {\n    load_libs(js_urls, function() {\n      console.log(\"Bokeh: BokehJS plotting callback run at\", now());\n      run_inline_js();\n    });\n  }\n}(window));"
     },
     "metadata": {},
     "output_type": "display_data"
    }
   ],
   "source": [
    "# Tell Bokeh to display plots inside the notebook.\n",
    "from bokeh.io import output_notebook\n",
    "output_notebook()"
   ]
  },
  {
   "cell_type": "code",
   "execution_count": 42,
   "metadata": {},
   "outputs": [
    {
     "data": {
      "text/html": [
       "\n",
       "<div class=\"bk-root\">\n",
       "    <div class=\"bk-plotdiv\" id=\"e9f561d2-6c18-4368-a30f-b9f0c4b2b51f\"></div>\n",
       "</div>"
      ]
     },
     "metadata": {},
     "output_type": "display_data"
    },
    {
     "data": {
      "application/javascript": [
       "(function(root) {\n",
       "  function embed_document(root) {\n",
       "    \n",
       "  var docs_json = {\"2dcec4b7-36ef-450e-a8a3-93d68770abd9\":{\"roots\":{\"references\":[{\"attributes\":{},\"id\":\"e39dc0ac-2a65-4972-8365-0e6916932cf3\",\"type\":\"BasicTicker\"},{\"attributes\":{},\"id\":\"eb949a05-2f90-41a7-a508-b4ea36fda393\",\"type\":\"BasicTickFormatter\"},{\"attributes\":{\"plot\":{\"id\":\"4cfb4c74-03ab-4246-81de-e0350743efd1\",\"subtype\":\"Figure\",\"type\":\"Plot\"},\"ticker\":{\"id\":\"e39dc0ac-2a65-4972-8365-0e6916932cf3\",\"type\":\"BasicTicker\"}},\"id\":\"6bbb4480-1b96-4e21-85dd-9a00165c38af\",\"type\":\"Grid\"},{\"attributes\":{\"formatter\":{\"id\":\"eb949a05-2f90-41a7-a508-b4ea36fda393\",\"type\":\"BasicTickFormatter\"},\"plot\":{\"id\":\"4cfb4c74-03ab-4246-81de-e0350743efd1\",\"subtype\":\"Figure\",\"type\":\"Plot\"},\"ticker\":{\"id\":\"bd5e70f4-b3c2-48b9-afe6-560ef279500a\",\"type\":\"BasicTicker\"}},\"id\":\"ce17f27a-a5b8-4674-937b-7c6897b0fe76\",\"type\":\"LinearAxis\"},{\"attributes\":{},\"id\":\"bd5e70f4-b3c2-48b9-afe6-560ef279500a\",\"type\":\"BasicTicker\"},{\"attributes\":{},\"id\":\"a443eb4d-c729-4d91-b9eb-fbc17b763a6b\",\"type\":\"Selection\"},{\"attributes\":{\"dimension\":1,\"plot\":{\"id\":\"4cfb4c74-03ab-4246-81de-e0350743efd1\",\"subtype\":\"Figure\",\"type\":\"Plot\"},\"ticker\":{\"id\":\"bd5e70f4-b3c2-48b9-afe6-560ef279500a\",\"type\":\"BasicTicker\"}},\"id\":\"9c9a7218-36aa-4155-8b82-15f209ac0525\",\"type\":\"Grid\"},{\"attributes\":{},\"id\":\"d06c000e-a90c-4baf-a191-7af60847ea62\",\"type\":\"CrosshairTool\"},{\"attributes\":{\"data_source\":{\"id\":\"a2c5175e-3d07-4d2d-a8da-c2964783c1a6\",\"type\":\"ColumnDataSource\"},\"glyph\":{\"id\":\"825373b3-d9de-4504-8fbd-d9ab6fa24bf6\",\"type\":\"Circle\"},\"hover_glyph\":null,\"muted_glyph\":null,\"nonselection_glyph\":{\"id\":\"c56c4f82-2eea-4ff9-95d4-b7a64db9b050\",\"type\":\"Circle\"},\"selection_glyph\":null,\"view\":{\"id\":\"a609dc72-6475-4c2b-8672-c7e7077dbd5d\",\"type\":\"CDSView\"}},\"id\":\"5c6eefb1-06dc-467f-8f25-05b0969a26f6\",\"type\":\"GlyphRenderer\"},{\"attributes\":{\"callback\":null},\"id\":\"4f36d66d-61b1-423d-9d03-b93bc347e5a7\",\"type\":\"DataRange1d\"},{\"attributes\":{\"bottom_units\":\"screen\",\"fill_alpha\":{\"value\":0.5},\"fill_color\":{\"value\":\"lightgrey\"},\"left_units\":\"screen\",\"level\":\"overlay\",\"line_alpha\":{\"value\":1.0},\"line_color\":{\"value\":\"black\"},\"line_dash\":[4,4],\"line_width\":{\"value\":2},\"plot\":null,\"render_mode\":\"css\",\"right_units\":\"screen\",\"top_units\":\"screen\"},\"id\":\"75383673-0817-4d1f-9786-eb95f485900d\",\"type\":\"BoxAnnotation\"},{\"attributes\":{\"callback\":null},\"id\":\"b1cc8c44-bab2-476c-b62e-82f1bcb39a44\",\"type\":\"DataRange1d\"},{\"attributes\":{\"overlay\":{\"id\":\"75383673-0817-4d1f-9786-eb95f485900d\",\"type\":\"BoxAnnotation\"}},\"id\":\"bc8275bf-9a90-40bc-83f1-926309cf7f68\",\"type\":\"BoxZoomTool\"},{\"attributes\":{},\"id\":\"64617962-c99f-428f-8726-84744f8e9246\",\"type\":\"WheelZoomTool\"},{\"attributes\":{},\"id\":\"5c5df2c6-6fe9-406d-a9c4-ce9168ff3dfc\",\"type\":\"ResetTool\"},{\"attributes\":{\"active_drag\":\"auto\",\"active_inspect\":\"auto\",\"active_scroll\":\"auto\",\"active_tap\":\"auto\",\"tools\":[{\"id\":\"e78ebc46-f120-4cc2-b4ed-829c92998da7\",\"type\":\"HoverTool\"},{\"id\":\"d06c000e-a90c-4baf-a191-7af60847ea62\",\"type\":\"CrosshairTool\"},{\"id\":\"8b9b2d84-c415-4126-9a5d-c3b3e8668912\",\"type\":\"PanTool\"},{\"id\":\"64617962-c99f-428f-8726-84744f8e9246\",\"type\":\"WheelZoomTool\"},{\"id\":\"bc8275bf-9a90-40bc-83f1-926309cf7f68\",\"type\":\"BoxZoomTool\"},{\"id\":\"5c5df2c6-6fe9-406d-a9c4-ce9168ff3dfc\",\"type\":\"ResetTool\"},{\"id\":\"a1474d3e-f0ca-4bed-9a64-6d4458ff6994\",\"type\":\"SaveTool\"},{\"id\":\"773f04df-cc33-45fe-a193-fb51e91023c8\",\"type\":\"LassoSelectTool\"}]},\"id\":\"8eb82e43-1f68-4ad0-853d-d8c06390b2e5\",\"type\":\"Toolbar\"},{\"attributes\":{\"fill_alpha\":{\"value\":0.1},\"fill_color\":{\"value\":\"#1f77b4\"},\"line_alpha\":{\"value\":0.1},\"line_color\":{\"value\":\"#1f77b4\"},\"radius\":{\"field\":\"radii\",\"units\":\"data\"},\"x\":{\"field\":\"x\"},\"y\":{\"field\":\"y\"}},\"id\":\"c56c4f82-2eea-4ff9-95d4-b7a64db9b050\",\"type\":\"Circle\"},{\"attributes\":{},\"id\":\"a1474d3e-f0ca-4bed-9a64-6d4458ff6994\",\"type\":\"SaveTool\"},{\"attributes\":{\"below\":[{\"id\":\"4cdcc926-af25-476a-a925-2c950b1b55a9\",\"type\":\"LinearAxis\"}],\"left\":[{\"id\":\"ce17f27a-a5b8-4674-937b-7c6897b0fe76\",\"type\":\"LinearAxis\"}],\"renderers\":[{\"id\":\"4cdcc926-af25-476a-a925-2c950b1b55a9\",\"type\":\"LinearAxis\"},{\"id\":\"6bbb4480-1b96-4e21-85dd-9a00165c38af\",\"type\":\"Grid\"},{\"id\":\"ce17f27a-a5b8-4674-937b-7c6897b0fe76\",\"type\":\"LinearAxis\"},{\"id\":\"9c9a7218-36aa-4155-8b82-15f209ac0525\",\"type\":\"Grid\"},{\"id\":\"75383673-0817-4d1f-9786-eb95f485900d\",\"type\":\"BoxAnnotation\"},{\"id\":\"2e2b6003-7a93-4390-8c34-ed535550de53\",\"type\":\"PolyAnnotation\"},{\"id\":\"5c6eefb1-06dc-467f-8f25-05b0969a26f6\",\"type\":\"GlyphRenderer\"}],\"title\":{\"id\":\"f1a15298-8e98-4874-a85b-5849cf4d037d\",\"type\":\"Title\"},\"toolbar\":{\"id\":\"8eb82e43-1f68-4ad0-853d-d8c06390b2e5\",\"type\":\"Toolbar\"},\"x_range\":{\"id\":\"b1cc8c44-bab2-476c-b62e-82f1bcb39a44\",\"type\":\"DataRange1d\"},\"x_scale\":{\"id\":\"00aca466-376b-41b9-a94c-a2bcbe9a1bf7\",\"type\":\"LinearScale\"},\"y_range\":{\"id\":\"4f36d66d-61b1-423d-9d03-b93bc347e5a7\",\"type\":\"DataRange1d\"},\"y_scale\":{\"id\":\"0f3fe92b-8433-4492-8cf0-54614242eb03\",\"type\":\"LinearScale\"}},\"id\":\"4cfb4c74-03ab-4246-81de-e0350743efd1\",\"subtype\":\"Figure\",\"type\":\"Plot\"},{\"attributes\":{\"callback\":null,\"overlay\":{\"id\":\"2e2b6003-7a93-4390-8c34-ed535550de53\",\"type\":\"PolyAnnotation\"}},\"id\":\"773f04df-cc33-45fe-a193-fb51e91023c8\",\"type\":\"LassoSelectTool\"},{\"attributes\":{\"callback\":null,\"data\":{\"author_names\":[\"A.A.Handzel\",\"A.Afghan\",\"A.B.Bonds\",\"A.B.Kirillov\",\"A.Blake\",\"A.C.C.Coolen\",\"A.C.Tsoi\",\"A.Cichocki\",\"A.D.Back\",\"A.D.Rexlish\",\"A.Dembo\",\"A.Drees\",\"A.During\",\"A.E.Friedman\",\"A.F.Murray\",\"A.Ferguson\",\"A.G.Barto\",\"A.G.U.Perera\",\"A.Gersho\",\"A.Grunewald\",\"A.H.L.West\",\"A.HarryKlopf\",\"A.Hartstein\",\"A.Horst\",\"A.J.Bell\",\"A.J.Holmes\",\"A.J.Robinson\",\"A.Jagota\",\"A.Jayakumar\",\"A.Juels\",\"A.K.Krishnamurthy\",\"A.Kowalczyk\",\"A.Kramer\",\"A.Krogh\",\"A.L.Yuille\",\"A.Linden\",\"A.M.Annaswamy\",\"A.Marcantonio\",\"A.Meyer-Baese\",\"A.MiguelSanMartin\",\"A.Moopenn\",\"A.N.Michel\",\"A.NellBurgess\",\"A.Orlitsky\",\"A.P.Dunmur\",\"A.P.Thakoor\",\"A.Pentland\",\"A.Pouget\",\"A.R.Bulsara\",\"A.Rangarajan\",\"A.Rao\",\"A.Sangiovanni-Vincentelli\",\"A.Sato\",\"A.Senior\",\"A.Sergejew\",\"A.Shustorovich\",\"A.U.Levin\",\"A.W.Moore\",\"A.Zador\",\"A.vanSchaik\",\"AapoHyvarinen\",\"AapoHyvarrinen\",\"AbirZahalka\",\"AchimStahlberger\",\"AdAertsen\",\"AdamJ.Grove\",\"AdamJ.Nucci\",\"AdamKowalczyk\",\"AdamKrzyzak\",\"AdamN.Mamelak\",\"AdamPrtigel-Bennett\",\"AdrianTrapletti\",\"AhChungTsoi\",\"AjayGupta\",\"AjayN.Jain\",\"AkayshaC.Tang\",\"AkioTanaka\",\"AkiraHayashi\",\"AkitoSakurai\",\"AlanBarr\",\"AlanBlair\",\"AlanD.Blair\",\"AlanD.Marts\",\"AlanEMurray\",\"AlanF.Murray\",\"AlanH.Barr\",\"AlanH.Kramer\",\"AlanJ.Harget\",\"AlanL.Yuille\",\"AlanLapedes\",\"AlanMurray\",\"AlanStocker\",\"AlanYuille\",\"AlbertoBertoni\",\"AlbertoSangiovanni-Vincentelli\",\"AldraWatanabe\",\"AlessandroSperduti\",\"AlexChemjavsky\",\"AlexJ.Smola\",\"AlexP.Pentland\",\"AlexPentland\",\"AlexRobel\",\"AlexSmola\",\"AlexT.Nelson\",\"AlexWaibel\",\"AlexanderDimitrov\",\"AlexanderGrunewald\",\"AlexanderJ.Smola\",\"AlexanderJourjine\",\"AlexanderLinden\",\"AlexanderMoopenn\",\"AlexanderRoitershtein\",\"AlexanderSinger\",\"AlexanderT.Ihler\",\"Alexandervon-zur-Muhlen\",\"AlexandrePouget\",\"AlfonsoRenart\",\"AliA.Minai\",\"AliH.Sayed\",\"AliceChiang\",\"AliceM.Chiang\",\"AlirezaKhotanzad\",\"AlisterHamilton\",\"AllenI.Selverston\",\"AllenM.Peterson\",\"AllenM.Waxman\",\"AlokeGuha\",\"AlvaroA.Cmz-Cabrara\",\"AlyssaApsel\",\"AmirAtiya\",\"AmirDembo\",\"AmirF.Atiya\",\"AmitManwani\",\"AmnonShashua\",\"AmnonYariv\",\"AmyMcGovern\",\"AnandRangarajan\",\"AndersKrogh\",\"AndreElisseeff\",\"AndreJ.Noest\",\"AndreLongtin\",\"AndreStechert\",\"AndreasG.Andreou\",\"AndreasHerz\",\"AndreasM.Bartels\",\"AndreasS.Weigend\",\"AndreasStafylopatis\",\"AndreasStolcke\",\"AndreasWeigend\",\"AndreasZiehe\",\"AndresRodriguez\",\"Andrevan-Schaik\",\"AndrewBack\",\"AndrewBlake\",\"AndrewD.Brown\",\"AndrewD.J.Cross\",\"AndrewG.Barto\",\"AndrewGee\",\"AndrewH.Gee\",\"AndrewHsu\",\"AndrewLippman\",\"AndrewM.Finch\",\"AndrewMoore\",\"AndrewR.Barron\",\"AndrewR.Webb\",\"AndrewS.Noetzel\",\"AndrewW.Moore\",\"AndrewY.Ng\",\"Andrfivan-Schaik\",\"AndrzejCichocki\",\"AnenGersho\",\"AnnaCorderoy\",\"AnnaMorpurgo\",\"AnsgarH.L.West\",\"Antalvan-den-Bosch\",\"AnthonyBell\",\"AnthonyBloesch\",\"AnthonyJ.Bell\",\"AnthonyJ.R.Heading\",\"AnthonyJayakumar\",\"AnthonyKuh\",\"AnthonyLaVigna\",\"AnthonyM.Zador\",\"AnthonyV.W.Smith\",\"AnthonyZador\",\"AntonGunzinger\",\"AntonSchwartz\",\"AntoninaStarita\",\"AntonioTuriel\",\"AnyaC.Hurlbert\",\"AnyaHurlbert\",\"AoZee\",\"ArchismartRudra\",\"ArlindoL.Oliveira\",\"ArmandoManduca\",\"ArnaudDoucet\",\"ArthurB.Markman\",\"ArthurFlexer\",\"ArthurMcNair\",\"AsaBen-Hut\",\"AsrielU.Levin\",\"AssafJ.Zeevi\",\"AtamP.Dhawan\",\"AthanasiosG.Tsirukis\",\"AthanassiosSiapas\",\"AudreyL.Guzik\",\"AvijitSaha\",\"AvnerPriel\",\"AvrimBlum\",\"AxelCleeremans\",\"AyhanDemiriz\",\"B.A.Golomb\",\"B.A.Pearlmutter\",\"B.Boser\",\"B.DasGupta\",\"B.Flower\",\"B.G.Home\",\"B.J.Frey\",\"B.Kingsbury\",\"B.Lemarie\",\"B.Linares-Barranco\",\"B.P.Yuhas\",\"B.Parmanto\",\"B.Ravindran\",\"B.Scholkopf\",\"B.V.K.VijayaKumar\",\"B.V.Roy\",\"B.W.Mel\",\"B.Yuhas\",\"BabackMoghaddam\",\"BabakHassibi\",\"BahramNabet\",\"BalazsKegl\",\"BarakA.Pearlmutter\",\"BarakPearlmutter\",\"BarbaraKlein\",\"BarbaraRosario\",\"BarbaraWold\",\"BarnbangParmanto\",\"BarryFlower\",\"BarryJ.Richmond\",\"BartlettMel\",\"BartlettW.Mel\",\"BehnaamAazhang\",\"BemdFritzke\",\"BenA.Marcotte\",\"BenNorth\",\"BenS.Wittner\",\"Benjaminvan-Roy\",\"BennyLautmp\",\"BenoitHuet\",\"BernardDoyon\",\"BernardVictorri\",\"BernardoA.Huberman\",\"BernardoHuberman\",\"Bernd-PeterParis\",\"BerndFritzke\",\"BernhardE.Boser\",\"BernhardScholkopf\",\"BernhardSchottky\",\"Bertde-Vries\",\"BertramE.Shi\",\"BhaskarDasGupta\",\"BhusanGupta\",\"BillBaird\",\"BillG.Home\",\"BillG.Horne\",\"BillHorne\",\"BimalMathur\",\"BjomLambrigsten\",\"BojanPetek\",\"BraceRosen\",\"BradleyA.Minch\",\"BradleyC.Love\",\"BradleyTonkes\",\"BradleyW.Dickinson\",\"BrandynWebb\",\"BrendaClaiborne\",\"BrendaJ.Claiborne\",\"BrendanJ.Frey\",\"BrianBox\",\"BrianD.McVey\",\"BrianRasnow\",\"BrianS.Blais\",\"BrianSallans\",\"BrianV.Bonnlander\",\"BrookeAnderson\",\"BrooksBisofberger\",\"BruceDow\",\"BruceE.Rosen\",\"BruceGraham\",\"BruceL.McNaughton\",\"BruceMacDonald\",\"BrunoA.Olshausen\",\"BrunoCaprile\",\"BrunoCessac\",\"ByronDom\",\"C.A.Mead\",\"C.A.Micchelli\",\"C.B.Miller\",\"C.C.Atkeson\",\"C.Cones\",\"C.D.Spence\",\"C.Darken\",\"C.E.Rasmussen\",\"C.E.Schreiner\",\"C.F.Beckmann\",\"C.I.Thorbergsson\",\"C.J.C.H.Watkins\",\"C.J.Heckman\",\"C.J.Wellekens\",\"C.K.I.Williams\",\"C.K.Sin\",\"C.Kenyon\",\"C.Koch\",\"C.L.Fry\",\"C.L.Giles\",\"C.L.Winter\",\"C.LeeGiles\",\"C.M.Bishop\",\"C.M.Marcus\",\"C.Neukirchen\",\"C.Nohl\",\"C.Stevens\",\"C.T.Abdallah\",\"C.W.H.Mace\",\"C.W.Thrasher\",\"CandaceKamm\",\"CarlE.Rasmussen\",\"CarlaBrodley\",\"CarlaJ.Shatz\",\"CarlosBrody\",\"CarlosD.Brody\",\"CarlosMejia\",\"CarreitSahar-Pikielny\",\"CarverA.Mead\",\"CarverMead\",\"CatherineE.Myers\",\"CatherineStevens\",\"CazhaowS.Qazaz\",\"CedricDeffayet\",\"CesareFurlanello\",\"Ch.Tietz\",\"Chan-doLee\",\"ChangfengWang\",\"ChanthalChatterjee\",\"CharlesENeugebauer\",\"CharlesElbaurn\",\"CharlesF.Stevens\",\"CharlesFefferman\",\"CharlesL.Isbell\",\"CharlesM.Higgins\",\"CharlesM.Marcus\",\"CharlesRosenberg\",\"CharlesSchley\",\"CharlesStein\",\"CharlesW.Anderson\",\"ChdstofKoch\",\"Chiang-JungPu\",\"Chien-PingLu\",\"ChienPingLu\",\"ChongGu\",\"ChrisDiorio\",\"ChrisJ.C.Burges\",\"ChrisM.Bishop\",\"ChrisMesterharm\",\"ChristianDarken\",\"ChristianLebiere\",\"ChristianPiepenbrock\",\"ChristianW.Eurich\",\"ChristianeLinster\",\"ChristofKoch\",\"ChristofSchofl\",\"ChristophBregler\",\"ChristophE.Schreiner\",\"ChristophSchaefers\",\"ChristopheAndrieu\",\"ChristopheK.I.Williams\",\"ChristopherAssad\",\"ChristopherAtkeson\",\"ChristopherBowman\",\"ChristopherConnolly\",\"ChristopherDonham\",\"ChristopherG.Atkeson\",\"ChristopherJ.C.Burges\",\"ChristopherJ.Matheus\",\"ChristopherJ.Merz\",\"ChristopherJ.Metz\",\"ChristopherK.I.Williams\",\"ChristopherL.Scofield\",\"ChristopherM.Bishop\",\"ChristopherWilliams\",\"Chuan-LinWu\",\"ChuanyiJi\",\"ChuckWooters\",\"ChulanKwon\",\"ClaireLegleye\",\"ClaudeNadeau\",\"ClaudineMasson\",\"ClaudioGentile\",\"ClausBenkert\",\"ClayD.Spence\",\"ClaySpence\",\"ClaytonMcMillan\",\"CliffordLau\",\"ClintS.Cole\",\"ColinCampbell\",\"ColinG.Windsor\",\"ColinHumphties\",\"ConradC.Galland\",\"CorM.van-den-Bleek\",\"CorinnaCortes\",\"CraigR.Nohl\",\"CraigT.Jin\",\"CristophBregler\",\"CsabaSzepesvfixi\",\"CtuistophNeukirchen\",\"CurtisPadgett\",\"CyrilLatimer\",\"D.B.Schwartz\",\"D.Brandeis\",\"D.Chen\",\"D.D.Coon\",\"D.D.Lee\",\"D.Geiger\",\"D.H.Ballard\",\"D.Hammerstrom\",\"D.Henderson\",\"D.J.Kershaw\",\"D.J.Willshaw\",\"D.Johnson\",\"D.Kontoravdis\",\"D.L.Standley\",\"D.Lippe\",\"D.M.Titterington\",\"D.MacKay\",\"D.Ormoneit\",\"D.P.Helmbold\",\"D.S.C.So\",\"D.S.Tang\",\"D.S.Touretzky\",\"D.Saad\",\"D.Shemngton\",\"D.Sherrington\",\"D.T.Lawrence\",\"D.W.Opitz\",\"D.Yeung\",\"DaleK.Lee\",\"DaleSchuurmans\",\"DanCornford\",\"DanHammerstrom\",\"DanRoth\",\"DanaH.Ballard\",\"DanaRon\",\"DanaZ.Anderson\",\"DanielB.Schwartz\",\"DanielD.Lee\",\"DanielH.Lange\",\"DanielJ.Rosen\",\"DanielKammen\",\"DanielKersten\",\"DanielL.Alkon\",\"DanielL.James\",\"DanielL.Ruderman\",\"DanielM.Kammen\",\"DanielM.Wolpert\",\"DanielNissman\",\"DanielPotter\",\"DanielRuderman\",\"DanielS.Clouse\",\"DanielSchwartz\",\"DanielWillett\",\"DaphnaWeinshall\",\"DaphneBavelier\",\"DaphneKoller\",\"DarkoStefanovic\",\"DarrellLaham\",\"DarrenMutz\",\"DaveGillespie\",\"DaviGeiger\",\"DavidA.Cohn\",\"DavidA.Kessler\",\"DavidA.Nix\",\"DavidA.Robinson\",\"DavidAndre\",\"DavidB.Grimes\",\"DavidB.Kirk\",\"DavidB.Parker\",\"DavidB.Rosen\",\"DavidBarber\",\"DavidBlackman\",\"DavidBrady\",\"DavidChapman\",\"DavidCohn\",\"DavidDeMers\",\"DavidE.Rumelhart\",\"DavidE.VandenBout\",\"DavidFeld\",\"DavidForsyth\",\"DavidG.Grier\",\"DavidG.Stork\",\"DavidG.Ward\",\"DavidGoodine\",\"DavidH.Ackley\",\"DavidH.Wolpert\",\"DavidHandelman\",\"DavidHaussler\",\"DavidHelmbold\",\"DavidHorn\",\"DavidJ.Burr\",\"DavidJ.C.MacKay\",\"DavidJ.Crisp\",\"DavidJ.Foster\",\"DavidJ.Miller\",\"DavidKirk\",\"DavidL.Bisset\",\"DavidL.Trotman\",\"DavidL.Waltz\",\"DavidLowe\",\"DavidMarsan\",\"DavidMarson\",\"DavidMcAllester\",\"DavidMontana\",\"DavidNix\",\"DavidPrice\",\"DavidRogers\",\"DavidRumelhart\",\"DavidS.Touretzky\",\"DavidSaad\",\"DavidScheeff\",\"DavidServan-Schreiber\",\"DavidShahian\",\"DavidSomers\",\"DavidStork\",\"DavidTam\",\"DavidTerman\",\"DavidTouretzky\",\"DavidVandenBout\",\"DavidW.Jacobs\",\"DavidWarland\",\"DavidWillshaw\",\"DavidWolpert\",\"DavidZipser\",\"DaweiDong\",\"DaweiW.Dong\",\"DeLiangL.Wang\",\"DeLiangWang\",\"DeanA.Pomerleau\",\"DeanBrettle\",\"DeanPomerleau\",\"DedreGentner\",\"DeirdreW.Wheeler\",\"DeirdreWheeler\",\"DemetrPsaltis\",\"DemetriPsaltis\",\"DemetriTerzopoulos\",\"DianeLitman\",\"DidierHerschkowitz\",\"DidierKeymeulen\",\"DiegoGiuliani\",\"DiegoSona\",\"DietrichLehmann\",\"DietrichWettschereck\",\"DimitriBertsekas\",\"DimitrisMargaritis\",\"DirkOrmoneit\",\"DirkTimmerman\",\"Dit-YanYeung\",\"DmitriB.Chklovskii\",\"DmitryRinberg\",\"DoinaPrecup\",\"DominikHornel\",\"DonBone\",\"DonMontgomery\",\"DonR.Hush\",\"DonaldB.Malkoff\",\"DonaldJ.Baxter\",\"DonaldMathis\",\"DonaldT.Freeman\",\"DongXiang\",\"DonghuiCai\",\"DonnieHenderson\",\"DorothyA.Mighell\",\"DougJohnson\",\"DougReeves\",\"DouglasBaumgardt\",\"DouglasKerns\",\"DouglasL.Reilly\",\"DouglasR.Martin\",\"E.Alpaydin\",\"E.D.Sontag\",\"E.Domany\",\"E.E.Fetz\",\"E.Ersu\",\"E.Erwin\",\"E.Fragniere\",\"E.Littmann\",\"E.Majani\",\"E.Mjolsness\",\"E.Niebur\",\"E.Pasero\",\"E.Vittoz\",\"E.W.Jacobs\",\"E.Zohary\",\"EHergert\",\"EMoss\",\"EWeber\",\"EalanA.Henis\",\"EberhardE.Fetz\",\"EdgarA.Brown\",\"EdmondoTrentin\",\"EdmundT.Rolls\",\"EduardSackinger\",\"EduardoD.Sontag\",\"EduardoSontag\",\"EdwardK.Blum\",\"EdwardReitman\",\"EdwardSchwartz\",\"EdwardStern\",\"EdwardW.Kairiss\",\"EdwardW.Page\",\"EdwinLewis\",\"EdwinR.Hancock\",\"EeroP.Simoncelli\",\"EgonC.Pasztor\",\"EilonVaadia\",\"EimeiOyama\",\"EinarSorheim\",\"EladSchneidman\",\"EliShamir\",\"ElieBienenstock\",\"EliotMoss\",\"ElizabethC.Behrman\",\"ElliotSinger\",\"EmadN.Eskandar\",\"EmanualV.Todorov\",\"EmanuelTodorov\",\"EmanuelaBricolo\",\"EmmanuelGuigon\",\"EnnioMingolla\",\"EnricoBocchieri\",\"EricA.Hansen\",\"EricA.Wan\",\"EricB.Baum\",\"EricBaum\",\"EricBoussard\",\"EricChang\",\"EricCosatto\",\"EricCourchesne\",\"EricD.Young\",\"EricFragniere\",\"EricGranger\",\"EricI.Chang\",\"EricI.Knudsen\",\"EricJohnson\",\"EricMjolsness\",\"EricPostma\",\"EricS.Reifsnider\",\"EricSaund\",\"EricSchnell\",\"EricVatikiotis-Bateson\",\"EricVittoz\",\"ErichJ.Smythe\",\"ErichWhitney\",\"ErikD.Lumer\",\"ErkkiOja\",\"ErnestFokoue\",\"ErnestWan\",\"ErnstNiebur\",\"EsterLevin\",\"EstherLevin\",\"EtanJ.Markus\",\"EtienneBarnard\",\"EugeneSantos\",\"EvanSteeg\",\"EveMarder\",\"EyalCohen\",\"EyalYair\",\"EytanDomany\",\"EytanRuppin\",\"F.B.Rodriguez\",\"F.Botelho\",\"F.D.Garber\",\"F.Fallside\",\"F.Gingras\",\"F.H.Schuling\",\"F.Ohl\",\"F.R.Waugh\",\"FabioSolari\",\"FabrizioGabbiani\",\"FangyuGao\",\"FedericoFaggin\",\"FedericoGirosi\",\"FerdinandPeper\",\"FerdinandoA.Mussa-Ivaldi\",\"FerdinandoMussa-lvaldi\",\"FernandaBotelho\",\"FernandoJ.Nunez\",\"FernandoJ.Pineda\",\"FernandoLozano\",\"FernandoPineda\",\"FlorisTakens\",\"FouadBadran\",\"FrancesS.Chance\",\"FrancescoVivarelli\",\"FrancisQuek\",\"FrankEeckman\",\"FrankH.Eeckman\",\"FrankMoss\",\"FrankWerblin\",\"FrankWilczek\",\"FranklinJ.Rudolph\",\"FranklinR.Arethor\",\"FransM.Coetzee\",\"FredRieke\",\"FredWolf\",\"FriedrichLeisch\",\"FriedrichLeiseh\",\"FriedrichT.Sommex\",\"Fu-ShengTsung\",\"FxnstR.Dow\",\"G.BjornChristianson\",\"G.Brightwell\",\"G.Cauwenberghs\",\"G.Dreyfus\",\"G.G.Blasdel\",\"G.Hinton\",\"G.Indiveri\",\"G.J.Goodhill\",\"G.J.Gordon\",\"G.J.Kacmarcik\",\"G.J.Zelinsky\",\"G.Jackson\",\"G.L.Heileman\",\"G.L.Martin\",\"G.M.Kuhn\",\"G.N.Borisyuk\",\"G.Rigoll\",\"G.T.Buracas\",\"G.T.Kenyon\",\"G.Towell\",\"G.W.Flake\",\"G.Z.Sun\",\"G.Zavaliagkos\",\"GadiPinkas\",\"GalChechik\",\"GaleL.Martin\",\"GaleMartin\",\"GarethJames\",\"GarrisonCottrell\",\"GarrisonW.Cottrell\",\"GaryBradshaw\",\"GaryCook\",\"GaryG.Blasdel\",\"GaryLynch\",\"GaryM.Kuhn\",\"GaryM.Scott\",\"GaryW.Flake\",\"GavinSmith\",\"GeneA.Tagliarini\",\"GeneBoe\",\"GeneGindi\",\"GenevieveB.Orr\",\"GennadyS.Cymbalyuk\",\"GeoffreyE.Hinton\",\"GeoffreyFox\",\"GeoffreyGoodhill\",\"GeoffreyHinton\",\"GeoffreyJ.Goodhill\",\"GeoffreyOrsak\",\"GeoffreyTowell\",\"GeorgBrabant\",\"GeorgDorffner\",\"GeorgSchnitger\",\"GeorgeLeeZimmerman\",\"GeorgeZavaliagkos\",\"GeraldFahner\",\"GeraldSommer\",\"GeraldTesauro\",\"GeraldineLegendre\",\"GerardDreyfus\",\"GerardinaHernandez\",\"GerhardPaass\",\"GerhardRigoll\",\"GermanMato\",\"GertCauwenberghs\",\"GezaGyorgyi\",\"GfintherPalm\",\"GiacomoM.Bisio\",\"GiancarloFerrari-Trecate\",\"GianlucaBontempi\",\"GianlucaDonato\",\"GideonDror\",\"GideonEInbar\",\"GilletteElvgren\",\"GillianMarshall\",\"GintamsV.Reklaitis\",\"GiovanniFlammia\",\"GirishN.Patel\",\"GlennMarion\",\"GraceWahba\",\"GregMartin\",\"GregoryE.Gonye\",\"GregoryECooper\",\"GregoryJ.Wolff\",\"GregoryM.Saunders\",\"GregoryR.Galperin\",\"GriffBilbro\",\"GrigorisKarakoulas\",\"GunnarRatsch\",\"Guo-ZhenSun\",\"Guo-ZhengSun\",\"GustavoDeco\",\"GuyJ.Brown\",\"GwendalLeMasson\",\"H.A.K.Mastebroek\",\"H.A.Rowley\",\"H.Attias\",\"H.Bolouri\",\"H.Bourlard\",\"H.C.Rae\",\"H.Drucker\",\"H.Ferni\",\"H.G.Zimmermann\",\"H.H.Chen\",\"H.L.Ferra\",\"H.Langenbacher\",\"H.MartinReekie\",\"H.N.Mhaskar\",\"H.Nakahara\",\"H.Ozaki\",\"H.P.Graf\",\"H.Pan\",\"H.R.Doyle\",\"H.Ritter\",\"H.S.Baird\",\"H.S.Seung\",\"H.Scheich\",\"H.Schwarze\",\"H.SebastianSeung\",\"H.T.Blair\",\"H.Tolle\",\"H.U.Bauer\",\"H.Wagner\",\"H.Wang\",\"H.Weissman\",\"H.Yang\",\"HagaiAttias\",\"HaimSompolinski\",\"HaimSompolinsky\",\"HalMcCartor\",\"HalbertWhite\",\"HalinaAbramowicz\",\"HananDavidowitz\",\"HangLi\",\"HansGeorgZimmermann\",\"HansHenrikThodberg\",\"HansP.Graf\",\"HansPeterGraf\",\"HansUlrichBauer\",\"HarelShouval\",\"HarrisDmcker\",\"HarrisDrucker\",\"HarrisonMonFookLeong\",\"HarryBurke\",\"HarryPrintz\",\"HarryWechsler\",\"HarveyKasdan\",\"HasanS.Uyar\",\"HavaT.Siegelmann\",\"HayitK.Greenspan\",\"HeikoNeumann\",\"HeinrichH.Bfilthoff\",\"HeinrichH.Btilthoff\",\"HeinzSchuster\",\"HelenePaugam-Moisy\",\"HelmutSchwegler\",\"HemantS.Kudrimoti\",\"HendricusG.Loos\",\"HenriAtlan\",\"HenrikBohr\",\"HenrikFredholm\",\"HerbertRoitblat\",\"HerbertWiklicky\",\"HermanFerra\",\"HermanVerrelst\",\"HermannHild\",\"HervdBourlard\",\"HerveBourlard\",\"Hi.Chiel\",\"HidekiNoda\",\"HidemitsuOgawa\",\"HideoKosaka\",\"HilaryTunley\",\"HilbertJ.Kappen\",\"HillelJ.Chiel\",\"HillelPratt\",\"HinrichSchfitze\",\"HiroakiGomi\",\"HiroakiSaito\",\"HirofumiMatsui\",\"HiroshiAndo\",\"HiroshiIshii\",\"HiroyukiNakahara\",\"HisashiSuzuki\",\"HolgerSchoner\",\"HolgerSchwenk\",\"HolmSchwarze\",\"HongC.Leung\",\"HongLeung\",\"HoracioFranco\",\"HorstBischof\",\"HosseinL.Najafi\",\"HowardH.Yang\",\"HowardHenry\",\"HowardKaushansky\",\"Hsing-HenChen\",\"HuguesBersini\",\"Hui-H.Hsu\",\"HuiTong\",\"HumbertSuarez\",\"Hung-LiTseng\",\"Hwang-SooLee\",\"HynekHermansky\",\"HyoungsooYoon\",\"I.Guyon\",\"I.Jouny\",\"I.M.Elfadel\",\"I.Pal\",\"I.Santoso\",\"IanParberry\",\"IanT.Nabney\",\"IdanSegev\",\"IdoKanter\",\"IgorGrebert\",\"Il-SongHan\",\"IlSongHan\",\"IngoSchiegl\",\"IraG.Smotroff\",\"IrfanEssa\",\"IrisGinzburg\",\"IsaacMeilijson\",\"IsabelleGuyon\",\"ItayGat\",\"J.A.Coelho\",\"J.A.F.Leite\",\"J.A.Farrell\",\"J.A.Marshall\",\"J.AllanHobson\",\"J.Alspector\",\"J.AnthonyMovshon\",\"J.B.Hampshire\",\"J.B.Tenenbaum\",\"J.Barhen\",\"J.Baxter\",\"J.Beck\",\"J.Bernasconi\",\"J.Bruck\",\"J.C.Hager\",\"J.C.Houk\",\"J.C.Jackson\",\"J.C.Pearson\",\"J.C.Platt\",\"J.D.Cowan\",\"J.D.Cowen\",\"J.Deppisch\",\"J.F.Shepanski\",\"J.G.Taylor\",\"J.Hajto\",\"J.Hertz\",\"J.J.Gelfand\",\"J.J.Hopfield\",\"J.JeffreyMahoney\",\"J.Kivinen\",\"J.Kramer\",\"J.L.Elman\",\"J.L.Huertas\",\"J.L.Wyatt\",\"J.L.vanHemmen\",\"J.Larsen\",\"J.Lazzaro\",\"J.LeovanHemmen\",\"J.Makhoul\",\"J.Moody\",\"J.N.Tsitsiklis\",\"J.PNadal\",\"J.S.Denker\",\"J.Schneider\",\"J.Shawe-Taylor\",\"J.Sirosh\",\"J.StephenJudd\",\"J.Szymanski\",\"J.T.Buckingham\",\"J.Tani\",\"J.VanderSpiegel\",\"J.W.Howse\",\"J.W.Shavlik\",\"J.Walter\",\"J.Wawrzynek\",\"J.Zhao\",\"JOrgBmske\",\"JaakkoHollmen\",\"JaapC.Schouten\",\"JackD.Cowan\",\"JackGelfand\",\"JackL.Gallant\",\"JackL.Meador\",\"JacobBarhen\",\"JacobEnglebrecht\",\"JacobErel\",\"JacquesGautrals\",\"JacquesJ.Vidal\",\"JacquesVidal\",\"JagmeetS.Kanwal\",\"JakeRyan\",\"JakobBernasconi\",\"JakobBohr\",\"JakubWejchert\",\"JamesA.Pittman\",\"JamesA.Reggia\",\"JamesA.Ritcey\",\"JamesA.Simmons\",\"JamesB.Burr\",\"JamesBeck\",\"JamesBower\",\"JamesC.Houk\",\"JamesD.Keeler\",\"JamesE.Steck\",\"JamesGlass\",\"JamesGlynn\",\"JamesGoodwin\",\"JamesHendler\",\"JamesHutchinson\",\"JamesJ.Knierim\",\"JamesK.Peterson\",\"JamesKeeler\",\"JamesL.McClelland\",\"JamesM.Bower\",\"JamesM.Coughlan\",\"JamesM.Goodwin\",\"JamesP.Callan\",\"JamesPittman\",\"JamesR.Cavanaugh\",\"JamesR.Mann\",\"JamesR.Williamson\",\"JamesS.Schwaber\",\"JamesT.Buchanan\",\"JamesWaskiewicz\",\"JanBen\",\"JanPuzicha\",\"JanVanderSpiegel\",\"JaneBromley\",\"JaneenAnderson\",\"JanetMetcalfe\",\"JanetWiles\",\"JaredLeinbach\",\"JashojibanBanik\",\"JasonSroka\",\"JasonWeston\",\"JavierMovellan\",\"JavierR.Movellan\",\"JawadA.Salehi\",\"JayAlexander\",\"JayDiamond\",\"Jean-BernardTheeten\",\"Jean-FranqoisIsabelle\",\"Jean-FranqoisVibert\",\"Jean-PierreNadal\",\"JeanRaysz\",\"JeanneC.Milostan\",\"JeanneTownsend\",\"JeffBilmes\",\"JeffG.Schneider\",\"JeffMellstrom\",\"JeffreyC.Lagarias\",\"JeffreyEMonaco\",\"JeffreyL.Elman\",\"JeffreyP.Sutton\",\"JeffreyR.LaFranchise\",\"JeffreyTeeters\",\"JehoshuaBruck\",\"Jen-LunYuan\",\"JenniferLund\",\"Jenq-NengHwang\",\"JensKohlmorgen\",\"JeremyFrank\",\"JeremyH.Holleman\",\"JeremyS.de-Bonet\",\"JeromeConnor\",\"JeromeFreidman\",\"JesperVedelsby\",\"JessicaD.Bayliss\",\"JetteRandlov\",\"JianWu\",\"JianfengFeng\",\"JillP.Mesirov\",\"JimAustin\",\"JimBergen\",\"JimChristian\",\"JimDonnett\",\"JimHawkins\",\"JimKeeler\",\"JimMann\",\"JimSchimert\",\"JinLuo\",\"JitendraMalik\",\"JoachimBuhmann\",\"JoachimM.Buhmann\",\"JoachimUtans\",\"JoaoF.G.de-Freitas\",\"JochenBraun\",\"JoeEisenberg\",\"JoeTebelskis\",\"JoelBert\",\"JoelRatsaby\",\"JofioF.G.de-Freitas\",\"JohannesFeulner\",\"JohnA.Hertz\",\"JohnAllman\",\"JohnB.Hampshire\",\"JohnBain\",\"JohnBaras\",\"JohnBridle\",\"JohnC.Pearson\",\"JohnC.Platt\",\"JohnCavazos\",\"JohnD.Uhley\",\"JohnDenker\",\"JohnE.Hogden\",\"JohnE.Moody\",\"JohnE.W.Mayhew\",\"JohnEHoude\",\"JohnF.Kolen\",\"JohnG.Harris\",\"JohnG.Milton\",\"JohnGrace\",\"JohnH.Holland\",\"JohnHaggerty\",\"JohnHershey\",\"JohnHertz\",\"JohnJ.Hopfield\",\"JohnK.Douglass\",\"JohnK.Williams\",\"JohnKassebaum\",\"JohnKennedy\",\"JohnKolen\",\"JohnKruschke\",\"JohnL.Wyatt\",\"JohnLazzaro\",\"JohnLoch\",\"JohnMakhoul\",\"JohnMoody\",\"JohnN.Tsitsiklis\",\"JohnO'Keefe\",\"JohnP.Donoghue\",\"JohnP.Miller\",\"JohnPearson\",\"JohnPerry\",\"JohnPlatt\",\"JohnS.Bridle\",\"JohnS.Denker\",\"JohnS.Pezaris\",\"JohnShawe-Taylor\",\"JohnW.Fisher\",\"JohnW.Miller\",\"JohnWawrzynek\",\"JohnY.Cheung\",\"JonTombs\",\"JonathanA.Marshall\",\"JonathanBachrach\",\"JonathanBaxter\",\"JonathanD.Cohen\",\"JonathanL.Shapiro\",\"JonathanQ.Li\",\"Jong-HoonOh\",\"JoosVandewalle\",\"JordanB.Pollack\",\"JordanPollack\",\"JorgKindermann\",\"JoseA.B.Fortes\",\"JoseAmbros-Ingerson\",\"JoseC.Principe\",\"JosePrincipe\",\"JosefP.Rauschecker\",\"JosefSkrzypek\",\"JosefZeitlhofer\",\"JosefZihl\",\"JosephB.Keller\",\"JosephC.Hager\",\"JosephCollard\",\"JosephDao\",\"JosephG.Malpeli\",\"JosephO.Ruanaidh\",\"JosephPolifroni\",\"JosephSill\",\"JosephSirosh\",\"JosephW.Goodman\",\"JoshI.Gold\",\"JoshuaAlspector\",\"JoshuaB.Tenenbaum\",\"JoshuaChover\",\"JoshuaTenenbaum\",\"JoumanaGhosn\",\"JoydeepGhosh\",\"Ju-SeogJang\",\"JuanK.Lin\",\"JudeShavlik\",\"JudeW.Shavlik\",\"JuergenFritsch\",\"JuergenSchmidhuber\",\"JuliaBorger\",\"JunZhang\",\"Jung-WookCho\",\"JurgenHollatz\",\"JurgenSchmidhuber\",\"JustinA.Boyan\",\"JustinBoyan\",\"JustinianRosca\",\"Jyh-MingKuo\",\"JyrldKivinen\",\"K.Asanovic\",\"K.Boahen\",\"K.Doya\",\"K.Fukumizu\",\"K.Homik\",\"K.I.Diamantaras\",\"K.J.Cherkauer\",\"K.JarrodMillman\",\"K.Mueller\",\"K.Obermayer\",\"K.Pawelzik\",\"K.Rose\",\"K.Schulten\",\"K.VenkateshPrasad\",\"K.Y.Goldberg\",\"K.Y.MichaelWong\",\"K.Y.Siu\",\"K.Yamada\",\"KaganTumer\",\"KaganTurner\",\"KahKaySung\",\"Kai-YeungSiu\",\"KalanitGrillSpector\",\"KamilA.Grajski\",\"KanBoonyanit\",\"KariTorkkola\",\"KarlGustafson\",\"KarlGustarson\",\"KaroJim\",\"KarvelK.Thomber\",\"KatalinM.Gothard\",\"KathrynLaskey\",\"KazuhikoYokosawa\",\"KazukiJoe\",\"KazumiSaito\",\"KeChen\",\"KechenZhang\",\"Ken-ichiIso\",\"KenHsu\",\"KenjiDoya\",\"KenjiMatsumoto\",\"KennethA.Norman\",\"KennethD.Miller\",\"KennethKreutz-Delgado\",\"KennethM.Buckland\",\"KennethMarko\",\"KennethY.Tsai\",\"KennethZeger\",\"KenneyNg\",\"KevinA.Archie\",\"KevinCummings\",\"KevinE.Martin\",\"KevinJ.Lang\",\"KevinJ.Moon\",\"KevinLang\",\"KevinP.Murphy\",\"KevinR.Farrell\",\"KevinR.Wheeler\",\"KhalidChoukri\",\"Ki-ChulKim\",\"KimmoKiviluoto\",\"KiyoshiHonda\",\"Klaus-R.Muller\",\"Klaus-RobertMilllet\",\"Klaus-RobertMuller\",\"KlausObermayer\",\"KlausPawelzik\",\"KlausPrank\",\"KlausR.Pawelzik\",\"KlausSchulten\",\"KnutMoller\",\"KoSakai\",\"KojiKotani\",\"KongKritayakirana\",\"KristRoginski\",\"KristinBennett\",\"KristinaJohnson\",\"KukjinKang\",\"KunihikoIizuka\",\"KurtFleischer\",\"KurtHomik\",\"KurtHornik\",\"KurtR.Smith\",\"KwabenaA.Boahen\",\"KwokFaiHui\",\"L.A.Akers\",\"L.Bottou\",\"L.C.Dixon\",\"L.C.Parra\",\"L.D.Jackel\",\"L.F.Abbott\",\"L.K.Hansen\",\"L.K.Saul\",\"L.Personnaz\",\"L.Pessoa\",\"L.Q.Zhang\",\"L.RichardCarley\",\"L.S.Smith\",\"L.Wu\",\"L.Xu\",\"L.Y.Pratt\",\"LB.Shuvalova\",\"LanceC.Walton\",\"LanceM.Optican\",\"LanceR.Williams\",\"LanceWu\",\"LarryYaeger\",\"LarsKaiHansen\",\"LarsSchwabe\",\"LasseHolmstrom\",\"LauraMartignon\",\"LauranceT.Maloney\",\"LaurensLeerink\",\"LaurensR.Leerink\",\"LaurentItti\",\"LawrenceD.Jackel\",\"LawrenceDavis\",\"LawrenceK.Saul\",\"LawrenceSaul\",\"LeemonBaird\",\"LeemonC.Baird\",\"LehelCsato\",\"LeiXu\",\"LeifH.Finkel\",\"LeonBottou\",\"LeonN.Cooper\",\"LeonPersonnaz\",\"LeonS.Sterling\",\"LeonardG.C.Hamey\",\"LeonidKruglyak\",\"LesAtlas\",\"LesE.Atlas\",\"LfionPersonnaz\",\"LidrorTroyansky\",\"LinaL.E.Massone\",\"LindaKaufman\",\"LindaKukolich\",\"LionelTarassenko\",\"LiqingZhang\",\"LiuKe\",\"LizhongWu\",\"LlewMason\",\"LloydWatts\",\"LorienY.Pratt\",\"LouisCeci\",\"LouiseOsterholtz\",\"LucasC.Parra\",\"LucasParra\",\"LuciaM.Vaina\",\"LuckyVidmar\",\"LucyE.Hadden\",\"LyleJ.Borg-Graham\",\"LyndonJ.Brown\",\"LynetteHirschman\",\"LynneKiorpes\",\"M.A.Jabri\",\"M.A.Mahowald\",\"M.AnthonyLewis\",\"M.Blatt\",\"M.Cekic\",\"M.Dale\",\"M.Deweese\",\"M.Dikaiakos\",\"M.Finke\",\"M.Garzon\",\"M.Gilloux\",\"M.H.Goldstein\",\"M.Hasselmo\",\"M.Herbster\",\"M.I.Jordan\",\"M.Isard\",\"M.J.Denham\",\"M.J.Rose\",\"M.Jabri\",\"M.K.Warmuth\",\"M.Kadirkamanathan\",\"M.Kearns\",\"M.Konishi\",\"M.Leroux\",\"M.M.Hayhoe\",\"M.M.Hochberg\",\"M.Mahowald\",\"M.Marchand\",\"M.Meila\",\"M.Niranjan\",\"M.Pavel\",\"M.R.Walker\",\"M.Revow\",\"M.S.Bartlett\",\"M.Schenkel\",\"M.Svensen\",\"M.V.Solodov\",\"M.Veloso\",\"M.W.Craven\",\"M.W.Pealersen\",\"M.Wattenberg\",\"MagnusRattray\",\"MagnusStensmo\",\"MahesanNiranjan\",\"MaheshVaranasi\",\"MakotoHirayama\",\"MalcolmSlaney\",\"MalikMagdon-Ismail\",\"ManceHarmon\",\"ManeeshSahani\",\"ManfredK.Warmuth\",\"ManfredOpper\",\"ManoelF.Tenorio\",\"ManoelFernandoTenorio\",\"ManuelF.Fernandez\",\"ManuelSamuelides\",\"Marc-OlivierCoppens\",\"MarcH.Cohen\",\"MarcLoinaz\",\"MarcellaA.McClure\",\"MarcelloPelillo\",\"MarcusFrean\",\"MarcusHeld\",\"MarcusHennecke\",\"MargaretSereno\",\"MarianS.Bartlett\",\"MarianStewartBartlett\",\"MarilynWalker\",\"MarinaMeila\",\"MarioBlaum\",\"MarioMarchand\",\"MarioP.Vecchi\",\"MarissaWesterfield\",\"MariusUsher\",\"Mark.RSydorenko\",\"MarkA.Gluck\",\"MarkA.Rubin\",\"MarkDerthick\",\"MarkE.Nelson\",\"MarkFanty\",\"MarkGerules\",\"MarkGluck\",\"MarkHoller\",\"MarkKvale\",\"MarkMathieson\",\"MarkOllila\",\"MarkPlutowski\",\"MarkRing\",\"MarkSaffman\",\"MarkSitton\",\"MarkW.Goudreau\",\"MarkWhite\",\"MarkZlochin\",\"MarkusLappe\",\"MarkusMeister\",\"MarkusSchenkel\",\"MarkusSvensen\",\"MarleneBehrmann\",\"MarshallFlax\",\"MarthaFarah\",\"MartinHammer\",\"MartinI.Sereno\",\"MartinJ.Johnson\",\"MartinJ.McKeown\",\"MartinJ.Wainwright\",\"MartinLades\",\"MartinMaechler\",\"MartinRiedmiller\",\"MartinRoscheisen\",\"MartinS.Glassman\",\"MartinSereno\",\"MartinStemmler\",\"MartinStetter\",\"MartineNaillon\",\"Martinede-Gerlache\",\"MarvinLuttges\",\"MarwanA.Jabri\",\"MarwanJabd\",\"MarwanJabri\",\"MaryB.Oftaway\",\"MaryE.T.Boyle\",\"MaryTabasko\",\"Masa-akiSato\",\"MasahikoHamno\",\"MasashiSugiyama\",\"MasayukiMiyamoto\",\"MasazumiKatayama\",\"MassimoSivilotti\",\"MassoudOmidvar\",\"MathiasQuoy\",\"MatsOsterberg\",\"MattMelton\",\"MatthewA.Wilson\",\"MatthewBrand\",\"MatthewJ.Beal\",\"MatthewM.Williamson\",\"MatthewN.Dailey\",\"MatthewSaffell\",\"MatthiasBurger\",\"MatthiasScholz\",\"MatthiasSeeger\",\"MattiHamalainen\",\"MauriceLee\",\"MauriceMilgram\",\"MauroBirattari\",\"MaxGarzon\",\"MaximilianRiesenhuber\",\"MazinRahim\",\"MelanieMitchell\",\"MenasheDornay\",\"Meng-JangLin\",\"MicahS.Siegel\",\"MichaelA.Glover\",\"MichaelBrownlow\",\"MichaelBurl\",\"MichaelC.Crair\",\"MichaelC.Mozer\",\"MichaelChuang\",\"MichaelCohen\",\"MichaelD.Revow\",\"MichaelDuff\",\"MichaelE.Hasselmo\",\"MichaelE.Levemon\",\"MichaelE.Tipping\",\"MichaelFinke\",\"MichaelFleisher\",\"MichaelG.Dyer\",\"MichaelG.Paulin\",\"MichaelGasser\",\"MichaelHasselmo\",\"MichaelHormel\",\"MichaelHumphreys\",\"MichaelI.Jordan\",\"MichaelI.Miller\",\"MichaelIsard\",\"MichaelJ.Berry\",\"MichaelJ.Carter\",\"MichaelJ.Pazzani\",\"MichaelJordan\",\"MichaelKearns\",\"MichaelKocheisen\",\"MichaelL.Chuang\",\"MichaelL.Littman\",\"MichaelLemmon\",\"MichaelLittman\",\"MichaelM.Merzenich\",\"MichaelMckenna\",\"MichaelMozer\",\"MichaelMurray\",\"MichaelO.Duff\",\"MichaelP.Perrone\",\"MichaelP.Stryker\",\"MichaelP.Weisend\",\"MichaelPhillips\",\"MichaelR.Berthold\",\"MichaelRecce\",\"MichaelRossen\",\"MichaelS.Gray\",\"MichaelS.Lewicki\",\"MichaelSchmitt\",\"MichaelSeibert\",\"MichaelT.Gately\",\"MichaelTunnon\",\"MichaelWennan\",\"MichaelZibulevsky\",\"MichailZak\",\"MichalMorciniec\",\"MichelCrepon\",\"MichelKerszberg\",\"MichiakiTaniguchi\",\"MichielNoordewier\",\"MichioNakashima\",\"MichiroNegishi\",\"MiguelA.Carreira-Perpinan\",\"MikeE.U.Smith\",\"MikeHochberg\",\"MikeSchuster\",\"MikeWynne-Jones\",\"Ming-HsuanYang\",\"Ming-TakLeung\",\"MinoruAsogawa\",\"MiriamSchulte\",\"MirtaB.Gordon\",\"MishaMahowald\",\"MishaPavel\",\"MitchellGilMaltenfort\",\"MitsuoKawato\",\"MitsuoKomura\",\"MohamedEl-Sharkawi\",\"MohammadA.Al-Ansari\",\"Mohammed-AbdelGhani\",\"MoiseH.Goldstein\",\"MonikaWoszczyna\",\"MosfeqRashid\",\"MosheKaro\",\"MosheSipper\",\"MostefaGolea\",\"MottenPedersen\",\"N.Barkai\",\"N.E.Berthier\",\"N.Fukumura\",\"N.H.Wulff\",\"N.Kamnanithi\",\"N.Morgan\",\"N.Murata\",\"N.N.Schraudolph\",\"N.S.Skantzos\",\"N.Toomarian\",\"NadaE.Matic\",\"NaftaliTishby\",\"NandaKambhatla\",\"NaohiroFukumura\",\"NaomiTakahashi\",\"NaonoriUeda\",\"NarendraAhuja\",\"NathanH.Brown\",\"NathanIntrator\",\"NebojsaJojic\",\"NeilBurgess\",\"NeilLawrence\",\"NelloCristianini\",\"NelsonMorgan\",\"NestorParga\",\"NevinL.Zhang\",\"NiallMcLoughlin\",\"NicholasCamevale\",\"NicholasD.Socci\",\"NicholasJ.Adams\",\"NicholasJ.Redding\",\"NicholasR.Howe\",\"NicholasRoy\",\"NicholasS.Flann\",\"NickLittlestone\",\"NicolN.Schraudolph\",\"NicolSchraudolph\",\"NigelDuffy\",\"NigelM.Allinson\",\"NikhilBhushan\",\"NikosLogothetis\",\"NikzadToomarian\",\"NirFriedman\",\"NirLevy\",\"NirmalaRamanujam\",\"NoamSlonim\",\"NoboruMumta\",\"NoboruMurata\",\"NobuoSuematsu\",\"NorbertoM.Grzywacz\",\"NormanYarvin\",\"NunoVasconcelos\",\"NuriaOliver\",\"O.Farotimi\",\"O.I.Tsioutsias\",\"O.J.M.Coenen\",\"O.L.Mangasarian\",\"O.Miller\",\"OdedMaron\",\"OdeliaSchwartz\",\"OferMatan\",\"OferZeitouni\",\"OjvindBernander\",\"OleWinther\",\"OliverB.Downs\",\"OliverLandolt\",\"OliverMihatsch\",\"OlivierBernier\",\"OlivierChapelle\",\"OlivierCoenen\",\"OttoSchmidbauer\",\"P.A.Chou\",\"P.A.Viola\",\"P.Anandan\",\"P.Auer\",\"P.Baldi\",\"P.Campbell\",\"P.Dayan\",\"P.Ekman\",\"P.JonathonPhillips\",\"P.K.Ko\",\"P.Kaye\",\"P.Koiran\",\"P.L.Bartlett\",\"P.Leong\",\"P.N.Sabes\",\"P.R.Montague\",\"P.ReadMontague\",\"P.S.Bradley\",\"P.S.Krishnaprasad\",\"P.Sollich\",\"P.Stone\",\"P.Tino\",\"P.W.Munro\",\"PaatRusmevichiemong\",\"PadhraicSmyth\",\"PanayiotaPoirazi\",\"PaolaCampadelli\",\"PaoloFrasconi\",\"PaoloGaudiano\",\"ParryHusbands\",\"ParthaNiyogi\",\"PatLangdon\",\"PatricK.Stanton\",\"PatriceSimard\",\"PatriceY.Simard\",\"PatrickAgin\",\"PatrickGallinari\",\"PatrickHaffner\",\"PatrickMoore\",\"PatrikHoyer\",\"PaulA.Viola\",\"PaulBeckman\",\"PaulBourgine\",\"PaulChristy\",\"PaulDean\",\"PaulEkman\",\"PaulHasler\",\"PaulM.Chau\",\"PaulMineiro\",\"PaulMueller\",\"PaulMunro\",\"PaulNachtigall\",\"PaulR.Cooper\",\"PaulRhodes\",\"PaulRodriguez\",\"PaulS.Haynes\",\"PaulSajda\",\"PaulSmolensky\",\"PaulStolorz\",\"PaulUtgoff\",\"PaulViola\",\"PaulW.Goldberg\",\"PaulW.Munro\",\"PavelLaskov\",\"PedroA.d.F.R.Hojen-Sorensen\",\"PedroGuedesde-Oliveira\",\"PekkaOrponen\",\"PenttiKanerva\",\"PeterAdorjan\",\"PeterBartlett\",\"PeterBollmann-Sdorra\",\"PeterD.Lawrence\",\"PeterDayan\",\"PeterE.Latham\",\"PeterF.Rowat\",\"PeterFoltz\",\"PeterJ.Angeline\",\"PeterJ.Edwards\",\"PeterKazlas\",\"PeterL.Bartlett\",\"PeterM.Williams\",\"PeterMarbach\",\"PeterN.Prokopowicz\",\"PeterN.Steinmetz\",\"PeterRappelsberger\",\"PeterSollich\",\"PeterSykacek\",\"PeterT.Szymanski\",\"PeterTifio\",\"PetriKoistinen\",\"PhilKohn\",\"PhilipH.Goodman\",\"PhilipJ.Holmes\",\"PhilipM.Long\",\"PhilippHiffiiger\",\"PhilippeO.Pouliquen\",\"PhillipAlvelda\",\"PieroCosi\",\"PierreBaldi\",\"PierreBand\",\"PierreBaraduc\",\"PietroPerona\",\"PingZhou\",\"PoHsiangChu\",\"PrahladGupta\",\"QingnanLi\",\"R.A.Grupen\",\"R.A.Pearson\",\"R.AndrewMcCallum\",\"R.C.Williamson\",\"R.Caruana\",\"R.ChristopherdeCharms\",\"R.Chu\",\"R.D.Beer\",\"R.D.Griffin\",\"R.D.Puff\",\"R.Dodier\",\"R.DouglasMartin\",\"R.E.Howard\",\"R.E.Jenkins\",\"R.E.Ritzmann\",\"R.Erlanson\",\"R.Etienne-Cummings\",\"R.Gourley\",\"R.H.Crites\",\"R.H.Koch\",\"R.Hofmann\",\"R.J.Wang\",\"R.Janow\",\"R.K.Alley\",\"R.Kaihara\",\"R.Kempter\",\"R.Lee\",\"R.M.Borisyuk\",\"R.M.Peterson\",\"R.M.Westervelt\",\"R.Meir\",\"R.Miikkulainen\",\"R.Neuneier\",\"R.P.N.Rao\",\"R.R.Snapp\",\"R.R.de-Ruyter-van-Steveninck\",\"R.S.Hubbard\",\"R.S.Peterson\",\"R.S.Sutton\",\"R.Schwartz\",\"R.Sitaramen\",\"R.T.Edwards\",\"R.Tibshirani\",\"R.TimothyEdwards\",\"R.W.Penney\",\"R.Zecchina\",\"RadekGrzeszczuk\",\"RadfordM.Neal\",\"RafaelMalach\",\"RahulSarpeshkar\",\"RailKompe\",\"RainerGoebel\",\"RainerMalaka\",\"RajeshP.N.Rao\",\"RajeshRao\",\"RalfHerbrich\",\"RalfWessel\",\"RalphEtienne-Cummings\",\"RalphLinsker\",\"RalphM.Siegel\",\"RalphNeuneier\",\"RalphPenner\",\"RalphWolf\",\"RamaChellappa\",\"RanEl-Yaniv\",\"RandallC.O'Reilly\",\"RandallD.Beer\",\"RandallR.Spangler\",\"RaoulTawel\",\"RaphaelFeraud\",\"RaviK.Sharma\",\"RaymondJ.Mooney\",\"RaymondJ.W.Wang\",\"RaymondL.Watrous\",\"RebeccaCastafio\",\"RebeccaRichards-Kortum\",\"RegisCardin\",\"ReidR.Harrison\",\"ReimarHofmann\",\"ReimarHolmann\",\"ReinerLenz\",\"ReinhardBlasig\",\"ReinholdMann\",\"RembrandtBakker\",\"RemiMunos\",\"RenatoDe-Mori\",\"RenatoVicente\",\"RezaShadmehr\",\"RicardoA.MarquesPereira\",\"RicardoVigario\",\"RichCamana\",\"RichCaruana\",\"RichardA.Andersen\",\"RichardC.Wilson\",\"RichardC.Windecker\",\"RichardCoggins\",\"RichardEhman\",\"RichardFozzard\",\"RichardG.M.Morris\",\"RichardGolden\",\"RichardGranger\",\"RichardH.Lathrop\",\"RichardJ.Coggins\",\"RichardJ.Mammone\",\"RichardK.Belew\",\"RichardKempter\",\"RichardLadnet\",\"RichardLehrer\",\"RichardLippmann\",\"RichardLyon\",\"RichardM.Golden\",\"RichardO.Duda\",\"RichardP.Lippmann\",\"RichardRohwer\",\"RichardS.Sutton\",\"RichardS.Zemel\",\"RichardSchwartz\",\"RichardSutton\",\"RichardT.J.Bostock\",\"RichardWolniewicz\",\"RichardZemel\",\"RiittaHari\",\"RistoMiikkulainen\",\"RitaVenturini\",\"Robde-Ruyter-van-Steveninck\",\"RobertA.Jacobs\",\"RobertAllen\",\"RobertB.Allen\",\"RobertB.Darling\",\"RobertB.Pinter\",\"RobertC.Eaton\",\"RobertC.Williamson\",\"RobertCrites\",\"RobertCunningham\",\"RobertE.Druzinsky\",\"RobertE.Schapire\",\"RobertFarber\",\"RobertFrye\",\"RobertH.Dodier\",\"RobertJ.Adler\",\"RobertJ.Marks\",\"RobertJacobs\",\"RobertL.Tokar\",\"RobertMoll\",\"RobertSchapire\",\"RobertSnapp\",\"RobertTibshitani\",\"RobertWilliamson\",\"RobertoPieraccini\",\"RodericGinpen\",\"RoderickMurray-Smith\",\"RodneyCotterill\",\"RodneyDouglas\",\"RodneyGoodman\",\"RodneyJ.Douglas\",\"RodneyM.Goodman\",\"RodolfoMilito\",\"RogerCheng\",\"RogerShepard\",\"RolfD.Henkel\",\"RolfEckmiller\",\"RonKeesing\",\"RonL.Rivest\",\"RonMeir\",\"RonPapka\",\"Ronald.Rivest\",\"RonaldA.Cole\",\"RonaldA.Sumida\",\"RonaldCole\",\"RonaldG.Benson\",\"RonaldH.Silverman\",\"RonaldJ.Williams\",\"RonaldKlein\",\"RonaldL.Calabrese\",\"RonaldL.Rivest\",\"RonaldM.Harris-Warrick\",\"RonaldParr\",\"RonaldRosenfeld\",\"RonaldSverdlove\",\"RonenBasri\",\"RonnyMeir\",\"RoopakShah\",\"Rudolphvan-der-Merwe\",\"RussellH.Lambert\",\"RuthErlanson\",\"RuthJ.Williams\",\"RuthRosenholtz\",\"RyoheiNakano\",\"RyojiSuzuki\",\"RyotaroKamimura\",\"S.A.Macy\",\"S.A.Seinenov\",\"S.A.Solla\",\"S.Amari\",\"S.Baluja\",\"S.Boes\",\"S.C.Ahalt\",\"S.C.Kremer\",\"S.Churcher\",\"S.E.Hihi\",\"S.Finch\",\"S.G.Lisberger\",\"S.Gold\",\"S.Hadjffaradji\",\"S.Haghighi\",\"S.J.Hanson\",\"S.K.Khanna\",\"S.K.Riis\",\"S.L.McCabe\",\"S.Lawrence\",\"S.Liu\",\"S.M.Omohundro\",\"S.M.Rueget\",\"S.Makeig\",\"S.N.Laughton\",\"S.P.M.Choi\",\"S.P.Singh\",\"S.Pappu\",\"S.Pickard\",\"S.R.H.Joseph\",\"S.R.Waterhouse\",\"S.Rehfuss\",\"S.Sahar\",\"S.SathiyaKeerthi\",\"S.Schaal\",\"S.SidneyFels\",\"S.Sundararajan\",\"S.Thrun\",\"S.Wiseman\",\"S.Yasui\",\"S.Yu\",\"SachaB.Nelson\",\"SaeedHadjifaradji\",\"SamRoweis\",\"SamT.Roweis\",\"SamuelP.M.Choi\",\"SamyBengio\",\"SandeepGulati\",\"SandraPanizza\",\"Sang-YungShin\",\"SanjayBiswas\",\"SantoshS.Venkatesh\",\"SantoshVenkatesh\",\"SaraA.Solla\",\"SaraSolla\",\"SatinderP.Singh\",\"SatinderSingh\",\"SatoruShiono\",\"SatoshiSuzuki\",\"SatoshiYamada\",\"SatoshiYamaria\",\"SayanMukherjee\",\"SayandevMukherjee\",\"ScottDavies\",\"ScottE.Fahlman\",\"ScottFahlman\",\"ScottKirkpatrick\",\"ScottMakeig\",\"ScottMarkel\",\"ScottRickard\",\"ScrenHalkjaer\",\"SeanD.Murphy\",\"SebastianB.Thrun\",\"SebastianMika\",\"SebastianRisau-Gusman\",\"SebastianThmn\",\"SebastianThrun\",\"SehoOh\",\"SeiMiyake\",\"SenSong\",\"SeppHochreiter\",\"SergeyIoffe\",\"SethuVijayahunar\",\"ShaiFine\",\"ShamKakade\",\"ShanParfitt\",\"SharadSinghal\",\"ShaulHochstein\",\"ShawnR.Lockery\",\"SheilaKannappan\",\"SheldonGilbert\",\"ShellyGoggin\",\"ShengMa\",\"SheriL.Gish\",\"SherifBotros\",\"SherrylTomboulian\",\"ShigemTanaka\",\"ShigeruTanaka\",\"Shih-ChengYen\",\"Shih-ChiiLiu\",\"ShimonEdelman\",\"ShimonUllman\",\"ShinIshii\",\"ShinichiSakata\",\"ShiroIkeda\",\"ShivakumarVaithyanathan\",\"ShlomoZilberstein\",\"ShujiYoshizawa\",\"ShumeetBaluja\",\"Shun-ichiAmari\",\"SiWu\",\"SiegfriedBos\",\"SilvioP.Sabatini\",\"SimonCarlile\",\"SimonDennis\",\"SimonJ.Thorpe\",\"SmartGeman\",\"SmartRussell\",\"SongLi\",\"Soo-YoungLee\",\"SophieDeneve\",\"SorenBrunak\",\"SowmyaRamachandran\",\"SreerupaDas\",\"SrinageshSatyanarayana\",\"StefanD.Wilke\",\"StefanHeil\",\"StefanKnerr\",\"StefanManke\",\"StefanSchaal\",\"StefanoMonti\",\"SteffenPetersen\",\"SteliosM.Smimakis\",\"StellaX.Yu\",\"StephanLuna\",\"StephanPareigis\",\"StephaneCanu\",\"StephanieForrest\",\"StephanieSeneft\",\"StephenA.Fisher\",\"StephenChurcher\",\"StephenCox\",\"StephenG.Lisberger\",\"StephenGrossberg\",\"StephenHanson\",\"StephenJ.Hanson\",\"StephenJoseHanson\",\"StephenJudd\",\"StephenLane\",\"StephenM.Omohundro\",\"StephenOmohundro\",\"StephenP.DeWeerth\",\"StephenPiche\",\"StephenPickard\",\"SteveCttien\",\"SteveGyger\",\"SteveMims\",\"SteveRenals\",\"SteveWaterhouse\",\"StevenA.Harp\",\"StevenBradtke\",\"StevenE.Golowich\",\"StevenGold\",\"StevenJ.Bradtke\",\"StevenJ.Nowlan\",\"StevenNowlan\",\"StevenR.Skinner\",\"StevenS.Watkins\",\"StuartMackie\",\"SubutaiAhmad\",\"SugunaPappu\",\"SuguruArimoto\",\"SumioWatanabe\",\"SusanCiarroccaLee\",\"SusumuTachi\",\"SuthepMadarasmi\",\"SuzannaBecker\",\"SvenKoenig\",\"SvilenTzonev\",\"SylvieRenaud-LeMasson\",\"SylvieRyckebusch\",\"SylvieThiria\",\"T.D.Albright\",\"T.Darrell\",\"T.Delbruck\",\"T.Downs\",\"T.Duong\",\"T.Flash\",\"T.Furukawa\",\"T.G.Dietterich\",\"T.Geisel\",\"T.Hastie\",\"T.J.Sejnowski\",\"T.Jaakkola\",\"T.Jung\",\"T.Kailath\",\"T.Kanade\",\"T.Lin\",\"T.Maxwell\",\"T.Mitchell\",\"T.Morimoto\",\"T.Nakai\",\"T.Ohmi\",\"T.P.Allen\",\"T.Petsehe\",\"T.Rebotier\",\"T.Sabisch.\",\"T.Serrano-Gotarredona\",\"T.Shibata\",\"T.Xu\",\"T.Yamashita\",\"TadHogg\",\"TadahiroOhmi\",\"TadashiShibata\",\"TaiSingLee\",\"TakahiroWatanabe\",\"TakaoWatanabe\",\"TakashiOnoda\",\"TakeoYamashita\",\"TalGrossman\",\"TamarFlash\",\"TamilsLinder\",\"TanPhan\",\"TarigSamad\",\"TatsutoMurayama\",\"Te-WonLee\",\"TerenceD.Sanger\",\"TerenceSanger\",\"TerrenceFine\",\"TerrenceJ.Sejnowski\",\"TerrenceL.Fine\",\"TerrenceSejnowski\",\"Th.Sudbrak\",\"TheaB.Ghiselli-Crippa\",\"TheoGeisel\",\"TheodoreJ.Perkins\",\"TheresaLong\",\"ThiloT.Frieg\",\"ThomasA.Busey\",\"ThomasAnastasio\",\"ThomasBriegel\",\"ThomasBrown\",\"ThomasC.Ferree\",\"ThomasClare\",\"ThomasDietterich\",\"ThomasG.Dietterich\",\"ThomasG.Edwards\",\"ThomasH.Brown\",\"ThomasHofmann\",\"ThomasHolmann\",\"ThomasJ.Anastasio\",\"ThomasK.Landauer\",\"ThomasK.Miller\",\"ThomasKailath\",\"ThomasKepler\",\"ThomasP.Vogl\",\"ThomasPetsche\",\"ThomasR.Hancock\",\"ThomasR.Shultz\",\"ThomasRagg\",\"ThomasShultz\",\"ThoreGraepel\",\"ThorsteinnS.Rognvaldsson\",\"TiloSloboda\",\"TimA.Hely\",\"TimHoriuchi\",\"TimHunkapiller\",\"TimSmithers\",\"TimothyChiu\",\"TimothyHoriuchi\",\"TimothyK.Horiuchi\",\"TimothyS.Wilkinson\",\"TimothyW.Cacciatore\",\"TimothyX.Brown\",\"Ting-ChuenPong\",\"TobiDelbruck\",\"TobiasMann\",\"ToddK.Leen\",\"ToddLeen\",\"ToddS.Braver\",\"ToddSoukup\",\"ToddTroyer\",\"TomBrashers-Krug\",\"TomHeskes\",\"TomJ.Richardson\",\"TomM.Mitchell\",\"TomN.Todd\",\"TomOhira\",\"TomasLozano-Perez\",\"TomasoA.Poggio\",\"TomasoPoggio\",\"TomilsLozano-Perez\",\"TommiJaakkola\",\"TommiS.Jaakkola\",\"TonWeijters\",\"TongZhang\",\"ToniaG.Morris\",\"TonyA.Plate\",\"TonyJ.Prescott\",\"TonyJebara\",\"TonyPlate\",\"TonyRobinson\",\"TorstenZeppenfeld\",\"ToruOhira\",\"ToshiakiOkamoto\",\"ToshioInui\",\"ToshiteruHomma\",\"ToshiyukiTanaka\",\"TrentE.Lange\",\"TrevorDarrell\",\"TrevorHastie\",\"TrevorJ.Darrell\",\"TrevorMundel\",\"TroelsKjaer\",\"Tzi-DarChiueh\",\"TzioDarChiueh\",\"Tzu-puHsieh\",\"Tzyy-PingJung\",\"UdoFanst\",\"UlrichBodenhausen\",\"UpinderS.Bhalla\",\"UriRokni\",\"UrsA.Muller\",\"UryNaftaly\",\"UsamaFayyad\",\"UweHelmke\",\"V.A.Chulaevsky\",\"V.Bohossian\",\"V.I.Kryukov\",\"V.I.Makarenko\",\"V.Kadirkamanathan\",\"V.P.Roychowdhury\",\"V.Sundareswaran\",\"V.Tresp\",\"V.Vapnik\",\"ValentinoBraitenberg\",\"VanH.Vu\",\"VanHenkle\",\"VaskenBohossian\",\"VeikkoJousmaki\",\"VerenaHebler\",\"VicenteHonrubia\",\"VicenteIragui\",\"VictorAbrash\",\"VictorHu\",\"VictorW.Zue\",\"VictorZue\",\"VijayR.Konda\",\"VijaySamalam\",\"VijaykumarGullapalli\",\"ViktorGruev\",\"VirginiaL.Stonick\",\"VirginiaR.de-Sa\",\"VitalyMaiorov\",\"VladimirCherkassky\",\"VladimirN.Vapnik\",\"VladimirVapnik\",\"VolkerHansen\",\"VolkerRoth\",\"VolkerSteinhage\",\"VolkerTresp\",\"VolneiPedroni\",\"VolodyaVovk\",\"VwaniP.Roychowdhury\",\"VwaniRoychowdhury\",\"W.Bair\",\"W.Bialek\",\"W.E.Blanz\",\"W.E.Sullivan\",\"W.FritzKruger\",\"W.Gerstner\",\"W.H.Zaagman\",\"W.HarmonRay\",\"W.Hubbard\",\"W.Maass\",\"W.Miller\",\"W.N.Street\",\"W.Owen\",\"W.Porod\",\"W.R.Gardner\",\"W.R.Softky\",\"W.Ross\",\"W.ScottStornetta\",\"W.ThomasMiller\",\"W.ZevRymer\",\"W.Zhang\",\"WalterMetznet\",\"Wan-PingChiang\",\"Wee-KhengLeow\",\"WeeSunLee\",\"Wei-TsihLee\",\"WeiminLiu\",\"WesleyE.Snyder\",\"WesleySnyder\",\"WilfriedBrauer\",\"WilhamBialek\",\"WillardMiranker\",\"WilliamB.Levy\",\"WilliamBaxter\",\"WilliamBialek\",\"WilliamE.Skaggs\",\"WilliamE.Vinje\",\"WilliamFaller\",\"WilliamFinnoff\",\"WilliamP.Lincoln\",\"WilliamR.Softky\",\"WilliamSkaggs\",\"WilliamT.Freeman\",\"WilliamW.Cohen\",\"WilliamW.Lytton\",\"WilliamW.Streilein\",\"WilliamY.Huang\",\"WimWiegerinck\",\"WolfgangMaass\",\"WolframMenzel\",\"WulframGerstner\",\"WyethBair\",\"X.Wang\",\"XavierBoyen\",\"XavierGiannakopoulos\",\"XiaohuiXie\",\"XinWang\",\"XiruZhang\",\"XiuwenLiu\",\"XiwuLin\",\"XuboB.Song\",\"XuboSong\",\"Y.Abu-Mostafa\",\"Y.Bengio\",\"Y.C.Lee\",\"Y.C.Pati\",\"Y.Cboe\",\"Y.Konig\",\"Y.LeCun\",\"Y.Mansour\",\"Y.Matsuoka\",\"Y.Singer\",\"Y.Xie\",\"Y.Zhao\",\"YairWeiss\",\"YakWeiss\",\"YanFang\",\"YannLeCun\",\"YannickPouliot\",\"YannisTsividis\",\"YaserAbu-Mostafa\",\"YaserS.Abu-Mostafa\",\"YasuhamKoike\",\"YasuharuKioke\",\"YasuhiroWada\",\"Ye.I.Kovalenko\",\"YechezkelYeshurun\",\"Yee-ChunLee\",\"Yee-WhyeTeh\",\"YehudaSalu\",\"YeshwantK.Muthusamy\",\"YeshwantMuthusamy\",\"YiLi\",\"Ying-WungLee\",\"YingZhao\",\"YishayMansour\",\"Yiu-faiWong\",\"YoavFreund\",\"YochaiKonig\",\"YoichiHayashi\",\"YojiUno\",\"YongLiu\",\"YoramBaram\",\"YoramGdalyahu\",\"YoramSinger\",\"YosefRinott\",\"YoshihiroMori\",\"YoshioTakane\",\"YoshiroMiyata\",\"YoshiyukiKabashima\",\"YoshuaBengio\",\"Yu-MingChiang\",\"YuHe\",\"YuanshengXiong\",\"YuansongLiao\",\"YuedongWang\",\"YurikoOshima-Takane\",\"YuzoHirai\",\"YuzuruSato\",\"YvesBurnod\",\"YvesChauvin\",\"YvesGrandvalet\",\"YvesMoteau\",\"Z.Chi\",\"Z.Ghahramani\",\"ZacharyMainen\",\"ZeevOlami\",\"ZehraCataltepe\",\"ZhaopingLi\",\"ZhiyongYang\",\"ZiliLiu\",\"ZoeF.Butler\",\"ZoranObradovic\",\"ZoubinGhahramani\"],\"author_sizes\":[1,1,1,1,1,7,2,2,1,1,2,1,1,3,2,1,4,1,1,1,1,1,1,1,1,1,6,1,1,1,1,3,1,2,2,1,1,1,1,1,1,1,1,1,1,2,1,2,1,2,1,1,1,1,1,1,1,1,2,1,3,1,1,1,1,1,1,3,2,2,1,1,3,1,4,2,1,2,1,1,1,1,2,2,3,2,1,1,1,3,1,1,2,1,1,1,3,1,4,1,5,1,3,2,11,2,1,4,1,1,1,1,1,1,1,8,1,1,1,1,1,1,3,2,1,2,2,1,1,2,1,2,3,2,1,1,4,5,1,1,2,1,6,1,1,2,1,1,1,2,1,1,1,1,1,2,9,1,1,1,3,1,2,1,1,1,8,3,2,1,1,1,1,1,1,2,1,3,1,2,3,1,2,1,1,1,1,1,1,1,1,1,1,1,1,2,1,1,1,1,1,1,1,1,1,1,2,1,1,1,1,1,1,2,1,1,1,1,1,1,1,1,1,1,1,1,1,1,1,1,4,1,1,3,3,2,1,1,1,2,1,1,7,1,2,1,1,2,3,1,1,1,2,1,1,1,1,2,9,3,2,1,1,1,6,1,4,1,2,1,1,1,2,1,1,1,1,1,2,4,1,1,1,1,1,1,1,1,1,1,1,2,1,2,1,1,1,2,1,1,1,1,1,1,1,1,1,1,1,1,1,2,1,1,3,1,2,1,9,1,2,1,1,2,1,1,1,1,2,1,1,1,2,1,1,1,3,1,1,1,1,1,1,1,2,1,1,1,1,1,3,2,1,1,1,1,1,3,1,1,1,1,1,2,2,2,2,1,2,1,2,24,1,2,2,1,1,1,1,1,1,1,1,7,3,1,1,1,10,2,7,1,1,4,2,1,1,1,2,1,1,5,1,1,1,1,1,1,1,2,1,2,1,2,1,1,1,1,1,1,1,2,1,1,1,1,1,4,1,1,1,1,1,2,1,1,1,1,1,2,1,2,1,2,1,1,1,2,1,1,1,2,4,1,1,1,5,1,1,1,2,1,1,4,2,3,1,1,2,1,1,1,5,1,3,1,1,1,1,3,3,1,1,1,1,1,2,1,1,8,1,1,1,4,3,2,1,1,1,1,7,1,1,2,2,1,4,1,7,2,5,2,1,1,1,1,1,1,1,1,1,2,1,1,1,3,3,5,9,1,3,1,1,1,1,1,1,3,1,1,1,2,1,1,1,3,1,4,1,2,1,1,1,1,2,1,1,1,1,1,1,1,2,1,1,1,1,1,2,1,3,1,1,1,2,1,1,1,1,1,1,1,1,1,1,1,1,1,1,1,2,1,1,1,1,1,2,1,1,1,1,1,1,1,1,1,1,1,1,1,1,1,3,1,1,1,1,1,1,1,1,1,5,2,1,2,1,1,1,1,1,2,1,1,1,2,1,1,1,1,1,2,2,3,1,1,2,1,1,1,1,1,2,1,1,9,1,1,1,1,4,1,1,1,1,4,1,1,2,1,2,1,1,1,1,3,1,1,1,11,1,1,1,2,1,1,1,1,1,1,1,1,2,1,1,1,1,1,4,1,1,1,1,1,2,1,5,1,1,1,1,1,1,1,2,1,1,1,1,1,1,1,1,1,1,1,2,1,1,1,1,1,1,1,1,1,1,1,1,1,1,1,2,1,1,2,2,1,1,3,6,1,1,1,1,1,1,2,1,1,1,2,4,1,16,1,1,6,3,1,3,1,3,1,1,1,1,1,8,1,2,1,2,2,1,6,1,1,1,1,1,1,1,1,1,1,1,1,3,1,2,1,1,1,3,1,1,4,1,4,1,4,3,1,1,1,1,1,1,2,1,1,1,1,2,1,1,2,1,1,1,2,1,1,4,1,2,1,1,7,1,1,1,1,1,1,2,4,1,3,1,2,2,1,1,2,1,2,3,1,1,1,1,1,1,1,1,2,1,2,2,1,1,1,2,2,1,1,1,1,1,1,1,1,1,1,2,1,3,1,1,1,1,1,1,2,1,1,1,1,1,1,1,2,1,1,2,1,1,2,3,1,1,4,1,1,4,1,1,1,1,1,1,1,1,5,1,1,1,1,2,2,1,2,1,1,1,1,1,1,2,6,2,2,1,1,1,1,2,2,1,1,1,1,1,1,1,1,1,2,1,1,1,2,3,1,1,1,1,1,1,1,1,1,1,1,1,1,2,2,2,2,1,1,1,1,3,1,1,1,1,1,1,1,1,1,3,1,2,1,1,1,1,6,1,1,1,1,1,1,1,2,1,1,1,1,1,1,1,2,1,1,1,1,1,1,2,1,2,1,1,1,1,1,1,1,4,10,2,1,1,1,1,1,1,1,1,1,1,2,2,1,1,1,6,1,1,1,2,3,5,1,1,1,1,1,1,2,1,1,1,1,1,1,1,1,1,2,1,1,3,1,1,1,1,1,1,3,2,1,1,1,1,1,1,1,1,1,1,1,1,2,1,1,3,1,1,6,3,3,2,1,4,1,1,1,1,3,1,1,1,1,1,2,9,1,1,2,1,8,3,1,1,6,1,1,1,1,1,3,2,1,1,1,1,1,1,1,4,1,2,6,4,1,1,2,2,1,2,3,6,1,7,1,2,2,1,1,1,2,3,2,1,1,3,1,3,2,1,1,1,4,2,1,2,1,1,1,1,1,1,1,1,1,4,1,2,1,4,4,1,1,1,1,2,2,1,2,1,1,1,1,1,1,5,1,1,1,3,1,1,1,2,1,1,1,1,1,1,3,1,1,3,1,1,2,1,1,1,1,1,4,1,1,1,1,1,1,1,1,1,1,1,1,1,1,1,1,1,5,1,1,2,2,1,1,1,1,1,2,1,1,1,1,1,1,1,1,1,1,1,1,2,1,4,8,2,1,1,1,2,1,1,1,1,1,1,1,1,2,1,2,1,1,1,1,1,1,1,4,4,1,2,1,1,1,1,1,1,1,1,1,1,1,1,1,1,3,1,1,1,1,1,1,2,1,1,3,3,1,1,1,3,3,3,3,1,1,1,1,2,3,1,1,1,1,1,3,1,1,1,3,3,2,1,1,1,2,1,1,1,1,1,1,1,1,1,1,1,1,1,1,1,1,1,1,1,1,1,5,1,1,1,1,2,1,1,1,1,1,1,1,1,1,1,1,1,1,1,1,1,1,1,2,1,1,1,2,4,1,3,1,2,1,1,4,7,3,1,1,1,1,1,1,1,1,1,3,1,1,1,1,1,3,1,2,1,1,2,1,1,1,1,4,2,1,3,1,1,1,1,3,2,1,1,1,1,1,1,1,1,1,1,1,1,1,1,1,1,1,1,1,1,1,1,1,2,1,1,1,1,3,1,3,1,1,1,1,1,1,1,1,2,1,1,1,1,3,1,1,1,2,1,1,1,1,1,1,1,1,1,2,2,1,1,1,1,1,2,1,1,18,1,3,3,1,1,1,3,2,1,2,1,1,1,1,1,21,1,1,1,1,1,2,5,1,1,1,2,1,3,1,2,1,2,1,1,1,2,1,1,1,2,6,1,2,1,1,1,1,1,1,1,2,1,1,2,1,1,1,1,1,1,1,1,1,1,1,1,1,1,10,1,1,1,1,1,1,2,1,1,2,1,1,1,1,1,1,4,1,2,1,1,1,10,2,1,1,2,1,1,5,1,2,1,3,5,2,1,1,1,1,1,1,1,1,1,1,4,1,1,1,1,1,2,2,2,1,1,1,2,2,1,1,3,1,1,1,1,2,1,2,1,1,1,2,4,1,1,2,1,2,1,2,1,3,1,1,1,1,2,1,1,1,1,1,1,1,1,1,1,1,1,1,1,1,1,1,7,1,1,3,1,1,1,1,1,8,4,1,1,2,1,2,5,1,1,1,1,1,3,1,2,2,1,1,1,1,1,1,3,5,1,1,2,1,6,1,1,1,1,1,2,6,1,1,16,1,1,1,1,1,1,2,1,1,1,1,1,8,2,1,2,2,1,1,1,1,1,1,1,1,7,1,1,1,1,1,1,1,1,1,1,1,1,2,1,1,1,1,1,1,3,1,1,1,1,1,1,1,1,1,1,1,1,1,1,1,1,3,1,1,1,1,1,1,1,1,2,1,1,1,1,2,1,1,1,1,1,1,1,1,1,3,1,2,1,3,3,1,6,1,1,1,1,1,2,1,2,1,1,1,1,1,1,1,2,1,1,1,1,1,1,1,2,3,1,4,1,1,1,1,1,2,1,2,1,1,1,1,1,1,1,1,1,1,1,1,3,1,2,1,9,3,5,10,2,1,1,1,2,1,3,1,1,2,2,2,1,1,1,4,1,1,1,1,2,1,1,1,3,1,1,1,2,1,1,2,2,1,1,1,2,3,2,6,1,1,1,1,1,3,1,4,1,1,2,1,2,1,1,1,2,1,1,1,4,2,1,1,3,1,1,1,1,1,1,3,2,2,1,1,2,2,2,1,1,1,1,1,1,1,2,1,1,1,1,1,1,1,1,1,1,2,1,1,1,1,1,1,3,1,1,1,1,1,1,1,1,1,1,1,1,3,1,1,3,1,1,1,1,3,2,3,2,6,10,1,1,1,1,1,1,1,1,1,1,2,1,1,1,1,2,3,1,1,6,1,1,1,3,1,1,1,1,1,1,1,2,1,1,1,2,2,1,1,1,1,1,3,3,2,1,1,1,1,1,2,6,7,1,1,1,2,1,1,1,1,1,3,2,2,1,3,2,1,1,1,1,3,1,1,1,1,1,2,1,1,1,1,1,1,1,2,1,1,2,2,1,3,3,5,1,1,1,1,1,2,1,1,1,1,4,1,6,2,1,1,1,8,1,1,3,1,1,1,5,1,1,1,2,1,1,1,1,1,1,1,1,1,1,1,11,1,2,3,1,1,1,1,1,1,1,1,1,1,1,1,1,1,1,1,1,1,1,2,1,2,1,3,1,2,1,1,1,3,5,2,1,31,3,1,1,2,2,1,1,1,1,1,3,1,1,1,1,3,1,2,4,1,2,1,1,3,1,1,3,1,1,1,1,3,1,1,1,1,1,1,1,3,1,1,1,3,1,1,1,10,1,1,1,2,2,3,1,1,1,1,1,1,4,1,6,1,1,1,1,2,1,3,1,2,1,1,1,1,1,1,2,3,4,1,1,1,1,1,1,2,1,1,1,1,1,1,1,1,1,1,2,1,2,2,1,2,3,1,1,2,1,1,1,1,1,2,1,1,2,1,1,2,1,1,4,2,1,3,4,1,1,1,13,1,1,1,2,1,1,1,1,1,1,1,1,3,1,1,1,1,1,1,1,1,1,1,1,1,1,1,1,1,2,1,2,1,1,3,1,1,1,4,1,1,1,2,1,1,1,5,1,1,1,2,1,8,1,3,4,1,1,1,1,1,1,1,1,1,1,1,2,5,1,1,1,2,1,1,1,1,1,2,1,1,11,1,1,5,3,1,1,1,1,1,2,1,1,1,1,1,1,3,3,1,2,1,1,2,2,2,2,8,1,2,1,1,2,14,1,1,1,1,1,1,1,1,1,6,1,1,1,1,1,1,1,6,1,2,1,1,11],\"radii\":[0.1,0.1,0.1,0.1,0.1,0.7000000000000001,0.2,0.2,0.1,0.1,0.2,0.1,0.1,0.30000000000000004,0.2,0.1,0.4,0.1,0.1,0.1,0.1,0.1,0.1,0.1,0.1,0.1,0.6000000000000001,0.1,0.1,0.1,0.1,0.30000000000000004,0.1,0.2,0.2,0.1,0.1,0.1,0.1,0.1,0.1,0.1,0.1,0.1,0.1,0.2,0.1,0.2,0.1,0.2,0.1,0.1,0.1,0.1,0.1,0.1,0.1,0.1,0.2,0.1,0.30000000000000004,0.1,0.1,0.1,0.1,0.1,0.1,0.30000000000000004,0.2,0.2,0.1,0.1,0.30000000000000004,0.1,0.4,0.2,0.1,0.2,0.1,0.1,0.1,0.1,0.2,0.2,0.30000000000000004,0.2,0.1,0.1,0.1,0.30000000000000004,0.1,0.1,0.2,0.1,0.1,0.1,0.30000000000000004,0.1,0.4,0.1,0.5,0.1,0.30000000000000004,0.2,1.1,0.2,0.1,0.4,0.1,0.1,0.1,0.1,0.1,0.1,0.1,0.8,0.1,0.1,0.1,0.1,0.1,0.1,0.30000000000000004,0.2,0.1,0.2,0.2,0.1,0.1,0.2,0.1,0.2,0.30000000000000004,0.2,0.1,0.1,0.4,0.5,0.1,0.1,0.2,0.1,0.6000000000000001,0.1,0.1,0.2,0.1,0.1,0.1,0.2,0.1,0.1,0.1,0.1,0.1,0.2,0.9,0.1,0.1,0.1,0.30000000000000004,0.1,0.2,0.1,0.1,0.1,0.8,0.30000000000000004,0.2,0.1,0.1,0.1,0.1,0.1,0.1,0.2,0.1,0.30000000000000004,0.1,0.2,0.30000000000000004,0.1,0.2,0.1,0.1,0.1,0.1,0.1,0.1,0.1,0.1,0.1,0.1,0.1,0.1,0.2,0.1,0.1,0.1,0.1,0.1,0.1,0.1,0.1,0.1,0.1,0.2,0.1,0.1,0.1,0.1,0.1,0.1,0.2,0.1,0.1,0.1,0.1,0.1,0.1,0.1,0.1,0.1,0.1,0.1,0.1,0.1,0.1,0.1,0.1,0.4,0.1,0.1,0.30000000000000004,0.30000000000000004,0.2,0.1,0.1,0.1,0.2,0.1,0.1,0.7000000000000001,0.1,0.2,0.1,0.1,0.2,0.30000000000000004,0.1,0.1,0.1,0.2,0.1,0.1,0.1,0.1,0.2,0.9,0.30000000000000004,0.2,0.1,0.1,0.1,0.6000000000000001,0.1,0.4,0.1,0.2,0.1,0.1,0.1,0.2,0.1,0.1,0.1,0.1,0.1,0.2,0.4,0.1,0.1,0.1,0.1,0.1,0.1,0.1,0.1,0.1,0.1,0.1,0.2,0.1,0.2,0.1,0.1,0.1,0.2,0.1,0.1,0.1,0.1,0.1,0.1,0.1,0.1,0.1,0.1,0.1,0.1,0.1,0.2,0.1,0.1,0.30000000000000004,0.1,0.2,0.1,0.9,0.1,0.2,0.1,0.1,0.2,0.1,0.1,0.1,0.1,0.2,0.1,0.1,0.1,0.2,0.1,0.1,0.1,0.30000000000000004,0.1,0.1,0.1,0.1,0.1,0.1,0.1,0.2,0.1,0.1,0.1,0.1,0.1,0.30000000000000004,0.2,0.1,0.1,0.1,0.1,0.1,0.30000000000000004,0.1,0.1,0.1,0.1,0.1,0.2,0.2,0.2,0.2,0.1,0.2,0.1,0.2,2.4000000000000004,0.1,0.2,0.2,0.1,0.1,0.1,0.1,0.1,0.1,0.1,0.1,0.7000000000000001,0.30000000000000004,0.1,0.1,0.1,1.0,0.2,0.7000000000000001,0.1,0.1,0.4,0.2,0.1,0.1,0.1,0.2,0.1,0.1,0.5,0.1,0.1,0.1,0.1,0.1,0.1,0.1,0.2,0.1,0.2,0.1,0.2,0.1,0.1,0.1,0.1,0.1,0.1,0.1,0.2,0.1,0.1,0.1,0.1,0.1,0.4,0.1,0.1,0.1,0.1,0.1,0.2,0.1,0.1,0.1,0.1,0.1,0.2,0.1,0.2,0.1,0.2,0.1,0.1,0.1,0.2,0.1,0.1,0.1,0.2,0.4,0.1,0.1,0.1,0.5,0.1,0.1,0.1,0.2,0.1,0.1,0.4,0.2,0.30000000000000004,0.1,0.1,0.2,0.1,0.1,0.1,0.5,0.1,0.30000000000000004,0.1,0.1,0.1,0.1,0.30000000000000004,0.30000000000000004,0.1,0.1,0.1,0.1,0.1,0.2,0.1,0.1,0.8,0.1,0.1,0.1,0.4,0.30000000000000004,0.2,0.1,0.1,0.1,0.1,0.7000000000000001,0.1,0.1,0.2,0.2,0.1,0.4,0.1,0.7000000000000001,0.2,0.5,0.2,0.1,0.1,0.1,0.1,0.1,0.1,0.1,0.1,0.1,0.2,0.1,0.1,0.1,0.30000000000000004,0.30000000000000004,0.5,0.9,0.1,0.30000000000000004,0.1,0.1,0.1,0.1,0.1,0.1,0.30000000000000004,0.1,0.1,0.1,0.2,0.1,0.1,0.1,0.30000000000000004,0.1,0.4,0.1,0.2,0.1,0.1,0.1,0.1,0.2,0.1,0.1,0.1,0.1,0.1,0.1,0.1,0.2,0.1,0.1,0.1,0.1,0.1,0.2,0.1,0.30000000000000004,0.1,0.1,0.1,0.2,0.1,0.1,0.1,0.1,0.1,0.1,0.1,0.1,0.1,0.1,0.1,0.1,0.1,0.1,0.1,0.2,0.1,0.1,0.1,0.1,0.1,0.2,0.1,0.1,0.1,0.1,0.1,0.1,0.1,0.1,0.1,0.1,0.1,0.1,0.1,0.1,0.1,0.30000000000000004,0.1,0.1,0.1,0.1,0.1,0.1,0.1,0.1,0.1,0.5,0.2,0.1,0.2,0.1,0.1,0.1,0.1,0.1,0.2,0.1,0.1,0.1,0.2,0.1,0.1,0.1,0.1,0.1,0.2,0.2,0.30000000000000004,0.1,0.1,0.2,0.1,0.1,0.1,0.1,0.1,0.2,0.1,0.1,0.9,0.1,0.1,0.1,0.1,0.4,0.1,0.1,0.1,0.1,0.4,0.1,0.1,0.2,0.1,0.2,0.1,0.1,0.1,0.1,0.30000000000000004,0.1,0.1,0.1,1.1,0.1,0.1,0.1,0.2,0.1,0.1,0.1,0.1,0.1,0.1,0.1,0.1,0.2,0.1,0.1,0.1,0.1,0.1,0.4,0.1,0.1,0.1,0.1,0.1,0.2,0.1,0.5,0.1,0.1,0.1,0.1,0.1,0.1,0.1,0.2,0.1,0.1,0.1,0.1,0.1,0.1,0.1,0.1,0.1,0.1,0.1,0.2,0.1,0.1,0.1,0.1,0.1,0.1,0.1,0.1,0.1,0.1,0.1,0.1,0.1,0.1,0.1,0.2,0.1,0.1,0.2,0.2,0.1,0.1,0.30000000000000004,0.6000000000000001,0.1,0.1,0.1,0.1,0.1,0.1,0.2,0.1,0.1,0.1,0.2,0.4,0.1,1.6,0.1,0.1,0.6000000000000001,0.30000000000000004,0.1,0.30000000000000004,0.1,0.30000000000000004,0.1,0.1,0.1,0.1,0.1,0.8,0.1,0.2,0.1,0.2,0.2,0.1,0.6000000000000001,0.1,0.1,0.1,0.1,0.1,0.1,0.1,0.1,0.1,0.1,0.1,0.1,0.30000000000000004,0.1,0.2,0.1,0.1,0.1,0.30000000000000004,0.1,0.1,0.4,0.1,0.4,0.1,0.4,0.30000000000000004,0.1,0.1,0.1,0.1,0.1,0.1,0.2,0.1,0.1,0.1,0.1,0.2,0.1,0.1,0.2,0.1,0.1,0.1,0.2,0.1,0.1,0.4,0.1,0.2,0.1,0.1,0.7000000000000001,0.1,0.1,0.1,0.1,0.1,0.1,0.2,0.4,0.1,0.30000000000000004,0.1,0.2,0.2,0.1,0.1,0.2,0.1,0.2,0.30000000000000004,0.1,0.1,0.1,0.1,0.1,0.1,0.1,0.1,0.2,0.1,0.2,0.2,0.1,0.1,0.1,0.2,0.2,0.1,0.1,0.1,0.1,0.1,0.1,0.1,0.1,0.1,0.1,0.2,0.1,0.30000000000000004,0.1,0.1,0.1,0.1,0.1,0.1,0.2,0.1,0.1,0.1,0.1,0.1,0.1,0.1,0.2,0.1,0.1,0.2,0.1,0.1,0.2,0.30000000000000004,0.1,0.1,0.4,0.1,0.1,0.4,0.1,0.1,0.1,0.1,0.1,0.1,0.1,0.1,0.5,0.1,0.1,0.1,0.1,0.2,0.2,0.1,0.2,0.1,0.1,0.1,0.1,0.1,0.1,0.2,0.6000000000000001,0.2,0.2,0.1,0.1,0.1,0.1,0.2,0.2,0.1,0.1,0.1,0.1,0.1,0.1,0.1,0.1,0.1,0.2,0.1,0.1,0.1,0.2,0.30000000000000004,0.1,0.1,0.1,0.1,0.1,0.1,0.1,0.1,0.1,0.1,0.1,0.1,0.1,0.2,0.2,0.2,0.2,0.1,0.1,0.1,0.1,0.30000000000000004,0.1,0.1,0.1,0.1,0.1,0.1,0.1,0.1,0.1,0.30000000000000004,0.1,0.2,0.1,0.1,0.1,0.1,0.6000000000000001,0.1,0.1,0.1,0.1,0.1,0.1,0.1,0.2,0.1,0.1,0.1,0.1,0.1,0.1,0.1,0.2,0.1,0.1,0.1,0.1,0.1,0.1,0.2,0.1,0.2,0.1,0.1,0.1,0.1,0.1,0.1,0.1,0.4,1.0,0.2,0.1,0.1,0.1,0.1,0.1,0.1,0.1,0.1,0.1,0.1,0.2,0.2,0.1,0.1,0.1,0.6000000000000001,0.1,0.1,0.1,0.2,0.30000000000000004,0.5,0.1,0.1,0.1,0.1,0.1,0.1,0.2,0.1,0.1,0.1,0.1,0.1,0.1,0.1,0.1,0.1,0.2,0.1,0.1,0.30000000000000004,0.1,0.1,0.1,0.1,0.1,0.1,0.30000000000000004,0.2,0.1,0.1,0.1,0.1,0.1,0.1,0.1,0.1,0.1,0.1,0.1,0.1,0.2,0.1,0.1,0.30000000000000004,0.1,0.1,0.6000000000000001,0.30000000000000004,0.30000000000000004,0.2,0.1,0.4,0.1,0.1,0.1,0.1,0.30000000000000004,0.1,0.1,0.1,0.1,0.1,0.2,0.9,0.1,0.1,0.2,0.1,0.8,0.30000000000000004,0.1,0.1,0.6000000000000001,0.1,0.1,0.1,0.1,0.1,0.30000000000000004,0.2,0.1,0.1,0.1,0.1,0.1,0.1,0.1,0.4,0.1,0.2,0.6000000000000001,0.4,0.1,0.1,0.2,0.2,0.1,0.2,0.30000000000000004,0.6000000000000001,0.1,0.7000000000000001,0.1,0.2,0.2,0.1,0.1,0.1,0.2,0.30000000000000004,0.2,0.1,0.1,0.30000000000000004,0.1,0.30000000000000004,0.2,0.1,0.1,0.1,0.4,0.2,0.1,0.2,0.1,0.1,0.1,0.1,0.1,0.1,0.1,0.1,0.1,0.4,0.1,0.2,0.1,0.4,0.4,0.1,0.1,0.1,0.1,0.2,0.2,0.1,0.2,0.1,0.1,0.1,0.1,0.1,0.1,0.5,0.1,0.1,0.1,0.30000000000000004,0.1,0.1,0.1,0.2,0.1,0.1,0.1,0.1,0.1,0.1,0.30000000000000004,0.1,0.1,0.30000000000000004,0.1,0.1,0.2,0.1,0.1,0.1,0.1,0.1,0.4,0.1,0.1,0.1,0.1,0.1,0.1,0.1,0.1,0.1,0.1,0.1,0.1,0.1,0.1,0.1,0.1,0.1,0.5,0.1,0.1,0.2,0.2,0.1,0.1,0.1,0.1,0.1,0.2,0.1,0.1,0.1,0.1,0.1,0.1,0.1,0.1,0.1,0.1,0.1,0.1,0.2,0.1,0.4,0.8,0.2,0.1,0.1,0.1,0.2,0.1,0.1,0.1,0.1,0.1,0.1,0.1,0.1,0.2,0.1,0.2,0.1,0.1,0.1,0.1,0.1,0.1,0.1,0.4,0.4,0.1,0.2,0.1,0.1,0.1,0.1,0.1,0.1,0.1,0.1,0.1,0.1,0.1,0.1,0.1,0.1,0.30000000000000004,0.1,0.1,0.1,0.1,0.1,0.1,0.2,0.1,0.1,0.30000000000000004,0.30000000000000004,0.1,0.1,0.1,0.30000000000000004,0.30000000000000004,0.30000000000000004,0.30000000000000004,0.1,0.1,0.1,0.1,0.2,0.30000000000000004,0.1,0.1,0.1,0.1,0.1,0.30000000000000004,0.1,0.1,0.1,0.30000000000000004,0.30000000000000004,0.2,0.1,0.1,0.1,0.2,0.1,0.1,0.1,0.1,0.1,0.1,0.1,0.1,0.1,0.1,0.1,0.1,0.1,0.1,0.1,0.1,0.1,0.1,0.1,0.1,0.1,0.5,0.1,0.1,0.1,0.1,0.2,0.1,0.1,0.1,0.1,0.1,0.1,0.1,0.1,0.1,0.1,0.1,0.1,0.1,0.1,0.1,0.1,0.1,0.1,0.2,0.1,0.1,0.1,0.2,0.4,0.1,0.30000000000000004,0.1,0.2,0.1,0.1,0.4,0.7000000000000001,0.30000000000000004,0.1,0.1,0.1,0.1,0.1,0.1,0.1,0.1,0.1,0.30000000000000004,0.1,0.1,0.1,0.1,0.1,0.30000000000000004,0.1,0.2,0.1,0.1,0.2,0.1,0.1,0.1,0.1,0.4,0.2,0.1,0.30000000000000004,0.1,0.1,0.1,0.1,0.30000000000000004,0.2,0.1,0.1,0.1,0.1,0.1,0.1,0.1,0.1,0.1,0.1,0.1,0.1,0.1,0.1,0.1,0.1,0.1,0.1,0.1,0.1,0.1,0.1,0.1,0.2,0.1,0.1,0.1,0.1,0.30000000000000004,0.1,0.30000000000000004,0.1,0.1,0.1,0.1,0.1,0.1,0.1,0.1,0.2,0.1,0.1,0.1,0.1,0.30000000000000004,0.1,0.1,0.1,0.2,0.1,0.1,0.1,0.1,0.1,0.1,0.1,0.1,0.1,0.2,0.2,0.1,0.1,0.1,0.1,0.1,0.2,0.1,0.1,1.8,0.1,0.30000000000000004,0.30000000000000004,0.1,0.1,0.1,0.30000000000000004,0.2,0.1,0.2,0.1,0.1,0.1,0.1,0.1,2.1,0.1,0.1,0.1,0.1,0.1,0.2,0.5,0.1,0.1,0.1,0.2,0.1,0.30000000000000004,0.1,0.2,0.1,0.2,0.1,0.1,0.1,0.2,0.1,0.1,0.1,0.2,0.6000000000000001,0.1,0.2,0.1,0.1,0.1,0.1,0.1,0.1,0.1,0.2,0.1,0.1,0.2,0.1,0.1,0.1,0.1,0.1,0.1,0.1,0.1,0.1,0.1,0.1,0.1,0.1,0.1,1.0,0.1,0.1,0.1,0.1,0.1,0.1,0.2,0.1,0.1,0.2,0.1,0.1,0.1,0.1,0.1,0.1,0.4,0.1,0.2,0.1,0.1,0.1,1.0,0.2,0.1,0.1,0.2,0.1,0.1,0.5,0.1,0.2,0.1,0.30000000000000004,0.5,0.2,0.1,0.1,0.1,0.1,0.1,0.1,0.1,0.1,0.1,0.1,0.4,0.1,0.1,0.1,0.1,0.1,0.2,0.2,0.2,0.1,0.1,0.1,0.2,0.2,0.1,0.1,0.30000000000000004,0.1,0.1,0.1,0.1,0.2,0.1,0.2,0.1,0.1,0.1,0.2,0.4,0.1,0.1,0.2,0.1,0.2,0.1,0.2,0.1,0.30000000000000004,0.1,0.1,0.1,0.1,0.2,0.1,0.1,0.1,0.1,0.1,0.1,0.1,0.1,0.1,0.1,0.1,0.1,0.1,0.1,0.1,0.1,0.1,0.7000000000000001,0.1,0.1,0.30000000000000004,0.1,0.1,0.1,0.1,0.1,0.8,0.4,0.1,0.1,0.2,0.1,0.2,0.5,0.1,0.1,0.1,0.1,0.1,0.30000000000000004,0.1,0.2,0.2,0.1,0.1,0.1,0.1,0.1,0.1,0.30000000000000004,0.5,0.1,0.1,0.2,0.1,0.6000000000000001,0.1,0.1,0.1,0.1,0.1,0.2,0.6000000000000001,0.1,0.1,1.6,0.1,0.1,0.1,0.1,0.1,0.1,0.2,0.1,0.1,0.1,0.1,0.1,0.8,0.2,0.1,0.2,0.2,0.1,0.1,0.1,0.1,0.1,0.1,0.1,0.1,0.7000000000000001,0.1,0.1,0.1,0.1,0.1,0.1,0.1,0.1,0.1,0.1,0.1,0.1,0.2,0.1,0.1,0.1,0.1,0.1,0.1,0.30000000000000004,0.1,0.1,0.1,0.1,0.1,0.1,0.1,0.1,0.1,0.1,0.1,0.1,0.1,0.1,0.1,0.1,0.30000000000000004,0.1,0.1,0.1,0.1,0.1,0.1,0.1,0.1,0.2,0.1,0.1,0.1,0.1,0.2,0.1,0.1,0.1,0.1,0.1,0.1,0.1,0.1,0.1,0.30000000000000004,0.1,0.2,0.1,0.30000000000000004,0.30000000000000004,0.1,0.6000000000000001,0.1,0.1,0.1,0.1,0.1,0.2,0.1,0.2,0.1,0.1,0.1,0.1,0.1,0.1,0.1,0.2,0.1,0.1,0.1,0.1,0.1,0.1,0.1,0.2,0.30000000000000004,0.1,0.4,0.1,0.1,0.1,0.1,0.1,0.2,0.1,0.2,0.1,0.1,0.1,0.1,0.1,0.1,0.1,0.1,0.1,0.1,0.1,0.1,0.30000000000000004,0.1,0.2,0.1,0.9,0.30000000000000004,0.5,1.0,0.2,0.1,0.1,0.1,0.2,0.1,0.30000000000000004,0.1,0.1,0.2,0.2,0.2,0.1,0.1,0.1,0.4,0.1,0.1,0.1,0.1,0.2,0.1,0.1,0.1,0.30000000000000004,0.1,0.1,0.1,0.2,0.1,0.1,0.2,0.2,0.1,0.1,0.1,0.2,0.30000000000000004,0.2,0.6000000000000001,0.1,0.1,0.1,0.1,0.1,0.30000000000000004,0.1,0.4,0.1,0.1,0.2,0.1,0.2,0.1,0.1,0.1,0.2,0.1,0.1,0.1,0.4,0.2,0.1,0.1,0.30000000000000004,0.1,0.1,0.1,0.1,0.1,0.1,0.30000000000000004,0.2,0.2,0.1,0.1,0.2,0.2,0.2,0.1,0.1,0.1,0.1,0.1,0.1,0.1,0.2,0.1,0.1,0.1,0.1,0.1,0.1,0.1,0.1,0.1,0.1,0.2,0.1,0.1,0.1,0.1,0.1,0.1,0.30000000000000004,0.1,0.1,0.1,0.1,0.1,0.1,0.1,0.1,0.1,0.1,0.1,0.1,0.30000000000000004,0.1,0.1,0.30000000000000004,0.1,0.1,0.1,0.1,0.30000000000000004,0.2,0.30000000000000004,0.2,0.6000000000000001,1.0,0.1,0.1,0.1,0.1,0.1,0.1,0.1,0.1,0.1,0.1,0.2,0.1,0.1,0.1,0.1,0.2,0.30000000000000004,0.1,0.1,0.6000000000000001,0.1,0.1,0.1,0.30000000000000004,0.1,0.1,0.1,0.1,0.1,0.1,0.1,0.2,0.1,0.1,0.1,0.2,0.2,0.1,0.1,0.1,0.1,0.1,0.30000000000000004,0.30000000000000004,0.2,0.1,0.1,0.1,0.1,0.1,0.2,0.6000000000000001,0.7000000000000001,0.1,0.1,0.1,0.2,0.1,0.1,0.1,0.1,0.1,0.30000000000000004,0.2,0.2,0.1,0.30000000000000004,0.2,0.1,0.1,0.1,0.1,0.30000000000000004,0.1,0.1,0.1,0.1,0.1,0.2,0.1,0.1,0.1,0.1,0.1,0.1,0.1,0.2,0.1,0.1,0.2,0.2,0.1,0.30000000000000004,0.30000000000000004,0.5,0.1,0.1,0.1,0.1,0.1,0.2,0.1,0.1,0.1,0.1,0.4,0.1,0.6000000000000001,0.2,0.1,0.1,0.1,0.8,0.1,0.1,0.30000000000000004,0.1,0.1,0.1,0.5,0.1,0.1,0.1,0.2,0.1,0.1,0.1,0.1,0.1,0.1,0.1,0.1,0.1,0.1,0.1,1.1,0.1,0.2,0.30000000000000004,0.1,0.1,0.1,0.1,0.1,0.1,0.1,0.1,0.1,0.1,0.1,0.1,0.1,0.1,0.1,0.1,0.1,0.1,0.1,0.2,0.1,0.2,0.1,0.30000000000000004,0.1,0.2,0.1,0.1,0.1,0.30000000000000004,0.5,0.2,0.1,3.1,0.30000000000000004,0.1,0.1,0.2,0.2,0.1,0.1,0.1,0.1,0.1,0.30000000000000004,0.1,0.1,0.1,0.1,0.30000000000000004,0.1,0.2,0.4,0.1,0.2,0.1,0.1,0.30000000000000004,0.1,0.1,0.30000000000000004,0.1,0.1,0.1,0.1,0.30000000000000004,0.1,0.1,0.1,0.1,0.1,0.1,0.1,0.30000000000000004,0.1,0.1,0.1,0.30000000000000004,0.1,0.1,0.1,1.0,0.1,0.1,0.1,0.2,0.2,0.30000000000000004,0.1,0.1,0.1,0.1,0.1,0.1,0.4,0.1,0.6000000000000001,0.1,0.1,0.1,0.1,0.2,0.1,0.30000000000000004,0.1,0.2,0.1,0.1,0.1,0.1,0.1,0.1,0.2,0.30000000000000004,0.4,0.1,0.1,0.1,0.1,0.1,0.1,0.2,0.1,0.1,0.1,0.1,0.1,0.1,0.1,0.1,0.1,0.1,0.2,0.1,0.2,0.2,0.1,0.2,0.30000000000000004,0.1,0.1,0.2,0.1,0.1,0.1,0.1,0.1,0.2,0.1,0.1,0.2,0.1,0.1,0.2,0.1,0.1,0.4,0.2,0.1,0.30000000000000004,0.4,0.1,0.1,0.1,1.3,0.1,0.1,0.1,0.2,0.1,0.1,0.1,0.1,0.1,0.1,0.1,0.1,0.30000000000000004,0.1,0.1,0.1,0.1,0.1,0.1,0.1,0.1,0.1,0.1,0.1,0.1,0.1,0.1,0.1,0.1,0.2,0.1,0.2,0.1,0.1,0.30000000000000004,0.1,0.1,0.1,0.4,0.1,0.1,0.1,0.2,0.1,0.1,0.1,0.5,0.1,0.1,0.1,0.2,0.1,0.8,0.1,0.30000000000000004,0.4,0.1,0.1,0.1,0.1,0.1,0.1,0.1,0.1,0.1,0.1,0.1,0.2,0.5,0.1,0.1,0.1,0.2,0.1,0.1,0.1,0.1,0.1,0.2,0.1,0.1,1.1,0.1,0.1,0.5,0.30000000000000004,0.1,0.1,0.1,0.1,0.1,0.2,0.1,0.1,0.1,0.1,0.1,0.1,0.30000000000000004,0.30000000000000004,0.1,0.2,0.1,0.1,0.2,0.2,0.2,0.2,0.8,0.1,0.2,0.1,0.1,0.2,1.4000000000000001,0.1,0.1,0.1,0.1,0.1,0.1,0.1,0.1,0.1,0.6000000000000001,0.1,0.1,0.1,0.1,0.1,0.1,0.1,0.6000000000000001,0.1,0.2,0.1,0.1,1.1],\"x\":{\"__ndarray__\":\"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\",\"dtype\":\"float32\",\"shape\":[2479]},\"y\":{\"__ndarray__\":\"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\",\"dtype\":\"float32\",\"shape\":[2479]}},\"selected\":{\"id\":\"a443eb4d-c729-4d91-b9eb-fbc17b763a6b\",\"type\":\"Selection\"},\"selection_policy\":{\"id\":\"c0d9b4b4-4c8b-45c7-a3d6-2fda137263fe\",\"type\":\"UnionRenderers\"}},\"id\":\"a2c5175e-3d07-4d2d-a8da-c2964783c1a6\",\"type\":\"ColumnDataSource\"},{\"attributes\":{\"fill_alpha\":{\"value\":0.5},\"fill_color\":{\"value\":\"lightgrey\"},\"level\":\"overlay\",\"line_alpha\":{\"value\":1.0},\"line_color\":{\"value\":\"black\"},\"line_dash\":[4,4],\"line_width\":{\"value\":2},\"plot\":null,\"xs_units\":\"screen\",\"ys_units\":\"screen\"},\"id\":\"2e2b6003-7a93-4390-8c34-ed535550de53\",\"type\":\"PolyAnnotation\"},{\"attributes\":{\"callback\":null,\"renderers\":\"auto\",\"tooltips\":[[\"author\",\"@author_names\"],[\"size\",\"@author_sizes\"]]},\"id\":\"e78ebc46-f120-4cc2-b4ed-829c92998da7\",\"type\":\"HoverTool\"},{\"attributes\":{\"formatter\":{\"id\":\"fc60a79b-a9e5-463c-936b-affef1ac7c70\",\"type\":\"BasicTickFormatter\"},\"plot\":{\"id\":\"4cfb4c74-03ab-4246-81de-e0350743efd1\",\"subtype\":\"Figure\",\"type\":\"Plot\"},\"ticker\":{\"id\":\"e39dc0ac-2a65-4972-8365-0e6916932cf3\",\"type\":\"BasicTicker\"}},\"id\":\"4cdcc926-af25-476a-a925-2c950b1b55a9\",\"type\":\"LinearAxis\"},{\"attributes\":{\"fill_alpha\":{\"value\":0.6},\"fill_color\":{\"value\":\"#1f77b4\"},\"line_color\":{\"value\":null},\"radius\":{\"field\":\"radii\",\"units\":\"data\"},\"x\":{\"field\":\"x\"},\"y\":{\"field\":\"y\"}},\"id\":\"825373b3-d9de-4504-8fbd-d9ab6fa24bf6\",\"type\":\"Circle\"},{\"attributes\":{},\"id\":\"c0d9b4b4-4c8b-45c7-a3d6-2fda137263fe\",\"type\":\"UnionRenderers\"},{\"attributes\":{},\"id\":\"0f3fe92b-8433-4492-8cf0-54614242eb03\",\"type\":\"LinearScale\"},{\"attributes\":{\"plot\":null,\"text\":\"\"},\"id\":\"f1a15298-8e98-4874-a85b-5849cf4d037d\",\"type\":\"Title\"},{\"attributes\":{},\"id\":\"00aca466-376b-41b9-a94c-a2bcbe9a1bf7\",\"type\":\"LinearScale\"},{\"attributes\":{},\"id\":\"8b9b2d84-c415-4126-9a5d-c3b3e8668912\",\"type\":\"PanTool\"},{\"attributes\":{},\"id\":\"fc60a79b-a9e5-463c-936b-affef1ac7c70\",\"type\":\"BasicTickFormatter\"},{\"attributes\":{\"source\":{\"id\":\"a2c5175e-3d07-4d2d-a8da-c2964783c1a6\",\"type\":\"ColumnDataSource\"}},\"id\":\"a609dc72-6475-4c2b-8672-c7e7077dbd5d\",\"type\":\"CDSView\"}],\"root_ids\":[\"4cfb4c74-03ab-4246-81de-e0350743efd1\"]},\"title\":\"Bokeh Application\",\"version\":\"0.12.16\"}};\n",
       "  var render_items = [{\"docid\":\"2dcec4b7-36ef-450e-a8a3-93d68770abd9\",\"elementid\":\"e9f561d2-6c18-4368-a30f-b9f0c4b2b51f\",\"modelid\":\"4cfb4c74-03ab-4246-81de-e0350743efd1\"}];\n",
       "  root.Bokeh.embed.embed_items_notebook(docs_json, render_items);\n",
       "\n",
       "  }\n",
       "  if (root.Bokeh !== undefined) {\n",
       "    embed_document(root);\n",
       "  } else {\n",
       "    var attempts = 0;\n",
       "    var timer = setInterval(function(root) {\n",
       "      if (root.Bokeh !== undefined) {\n",
       "        embed_document(root);\n",
       "        clearInterval(timer);\n",
       "      }\n",
       "      attempts++;\n",
       "      if (attempts > 100) {\n",
       "        console.log(\"Bokeh: ERROR: Unable to run BokehJS code because BokehJS library is missing\")\n",
       "        clearInterval(timer);\n",
       "      }\n",
       "    }, 10, root)\n",
       "  }\n",
       "})(window);"
      ],
      "application/vnd.bokehjs_exec.v0+json": ""
     },
     "metadata": {
      "application/vnd.bokehjs_exec.v0+json": {
       "id": "4cfb4c74-03ab-4246-81de-e0350743efd1"
      }
     },
     "output_type": "display_data"
    }
   ],
   "source": [
    "from bokeh.models import HoverTool\n",
    "from bokeh.plotting import figure, show, ColumnDataSource\n",
    "\n",
    "x = tsne.embedding_[:, 0]\n",
    "y = tsne.embedding_[:, 1]\n",
    "author_names = [model.id2author[a] for a in authors]\n",
    "\n",
    "# Radius of each point corresponds to the number of documents attributed to that author.\n",
    "scale = 0.1\n",
    "author_sizes = [len(model.author2doc[a]) for a in author_names]\n",
    "radii = [size * scale for size in author_sizes]\n",
    "\n",
    "source = ColumnDataSource(\n",
    "        data=dict(\n",
    "            x=x,\n",
    "            y=y,\n",
    "            author_names=author_names,\n",
    "            author_sizes=author_sizes,\n",
    "            radii=radii,\n",
    "        )\n",
    "    )\n",
    "\n",
    "# Add author names and sizes to mouse-over info.\n",
    "hover = HoverTool(\n",
    "        tooltips=[\n",
    "        (\"author\", \"@author_names\"),\n",
    "        (\"size\", \"@author_sizes\"),\n",
    "        ]\n",
    "    )\n",
    "\n",
    "p = figure(tools=[hover, 'crosshair,pan,wheel_zoom,box_zoom,reset,save,lasso_select'])\n",
    "p.scatter('x', 'y', radius='radii', source=source, fill_alpha=0.6, line_color=None)\n",
    "show(p)"
   ]
  },
  {
   "cell_type": "markdown",
   "metadata": {},
   "source": [
    "The circles in the plot above are individual authors, and their sizes represent the number of documents attributed to the corresponding author. Hovering your mouse over the circles will tell you the name of the authors and their sizes. Large clusters of authors tend to reflect some overlap in interest.\n",
    "\n",
    "We see that the model tends to put duplicate authors close together. For example, Terrence J. Sejnowki and T. J. Sejnowski are the same person, and their vectors end up in the same place (see about (−63, 18) in the plot).\n",
    "\n",
    "At about (−56, 28) we have a cluster of Machine learning researchers like YannLeCun, Yoshua Baengio and Geoffery  Hinton.\n",
    "\n",
    "As discussed earlier, the \"object recognition\" topic was assigned to Sejnowski. If we get the topics of the other authors in Sejnoski's neighborhood, like Peter Dayan, we also get this same topic. Furthermore, we see that this cluster is close to the \"neuroscience\" cluster consisting of James M. Bower and Christof Koch, which is further indication that this topic is about visual perception in the brain."
   ]
  },
  {
   "cell_type": "code",
   "execution_count": null,
   "metadata": {},
   "outputs": [],
   "source": []
  }
 ],
 "metadata": {
  "kernelspec": {
   "display_name": "Python 3",
   "language": "python",
   "name": "python3"
  },
  "language_info": {
   "codemirror_mode": {
    "name": "ipython",
    "version": 3
   },
   "file_extension": ".py",
   "mimetype": "text/x-python",
   "name": "python",
   "nbconvert_exporter": "python",
   "pygments_lexer": "ipython3",
   "version": "3.6.0"
  }
 },
 "nbformat": 4,
 "nbformat_minor": 2
}
